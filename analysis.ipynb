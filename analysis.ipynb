{
 "cells": [
  {
   "cell_type": "markdown",
   "id": "4ec0d5bd",
   "metadata": {},
   "source": [
    "# SupplyChain Analysist For Fact and Dim Tables"
   ]
  },
  {
   "cell_type": "code",
   "execution_count": 1,
   "id": "32780cfa",
   "metadata": {},
   "outputs": [],
   "source": [
    "import pandas as pd"
   ]
  },
  {
   "cell_type": "markdown",
   "id": "1139c7e8",
   "metadata": {},
   "source": [
    "# Read File"
   ]
  },
  {
   "cell_type": "code",
   "execution_count": 2,
   "id": "0cd8ef38",
   "metadata": {},
   "outputs": [],
   "source": [
    "df = pd.read_csv('data/DataCoSupplyChainDataset.csv', encoding='latin1')"
   ]
  },
  {
   "cell_type": "markdown",
   "id": "a93b6c33",
   "metadata": {},
   "source": [
    "# Overview Of The Dataset"
   ]
  },
  {
   "cell_type": "code",
   "execution_count": 3,
   "id": "e8ff6b4d",
   "metadata": {},
   "outputs": [
    {
     "data": {
      "text/plain": [
       "(180519, 53)"
      ]
     },
     "execution_count": 3,
     "metadata": {},
     "output_type": "execute_result"
    }
   ],
   "source": [
    "df.shape"
   ]
  },
  {
   "cell_type": "code",
   "execution_count": 4,
   "id": "3c3740f3",
   "metadata": {},
   "outputs": [
    {
     "data": {
      "text/plain": [
       "Index(['Type', 'Days for shipping (real)', 'Days for shipment (scheduled)',\n",
       "       'Benefit per order', 'Sales per customer', 'Delivery Status',\n",
       "       'Late_delivery_risk', 'Category Id', 'Category Name', 'Customer City',\n",
       "       'Customer Country', 'Customer Email', 'Customer Fname', 'Customer Id',\n",
       "       'Customer Lname', 'Customer Password', 'Customer Segment',\n",
       "       'Customer State', 'Customer Street', 'Customer Zipcode',\n",
       "       'Department Id', 'Department Name', 'Latitude', 'Longitude', 'Market',\n",
       "       'Order City', 'Order Country', 'Order Customer Id',\n",
       "       'order date (DateOrders)', 'Order Id', 'Order Item Cardprod Id',\n",
       "       'Order Item Discount', 'Order Item Discount Rate', 'Order Item Id',\n",
       "       'Order Item Product Price', 'Order Item Profit Ratio',\n",
       "       'Order Item Quantity', 'Sales', 'Order Item Total',\n",
       "       'Order Profit Per Order', 'Order Region', 'Order State', 'Order Status',\n",
       "       'Order Zipcode', 'Product Card Id', 'Product Category Id',\n",
       "       'Product Description', 'Product Image', 'Product Name', 'Product Price',\n",
       "       'Product Status', 'shipping date (DateOrders)', 'Shipping Mode'],\n",
       "      dtype='object')"
      ]
     },
     "execution_count": 4,
     "metadata": {},
     "output_type": "execute_result"
    }
   ],
   "source": [
    "df.columns"
   ]
  },
  {
   "cell_type": "code",
   "execution_count": 5,
   "id": "f337a74f",
   "metadata": {},
   "outputs": [
    {
     "data": {
      "text/html": [
       "<div>\n",
       "<style scoped>\n",
       "    .dataframe tbody tr th:only-of-type {\n",
       "        vertical-align: middle;\n",
       "    }\n",
       "\n",
       "    .dataframe tbody tr th {\n",
       "        vertical-align: top;\n",
       "    }\n",
       "\n",
       "    .dataframe thead th {\n",
       "        text-align: right;\n",
       "    }\n",
       "</style>\n",
       "<table border=\"1\" class=\"dataframe\">\n",
       "  <thead>\n",
       "    <tr style=\"text-align: right;\">\n",
       "      <th></th>\n",
       "      <th>Type</th>\n",
       "      <th>Days for shipping (real)</th>\n",
       "      <th>Days for shipment (scheduled)</th>\n",
       "      <th>Benefit per order</th>\n",
       "      <th>Sales per customer</th>\n",
       "      <th>Delivery Status</th>\n",
       "      <th>Late_delivery_risk</th>\n",
       "      <th>Category Id</th>\n",
       "      <th>Category Name</th>\n",
       "      <th>Customer City</th>\n",
       "      <th>...</th>\n",
       "      <th>Order Zipcode</th>\n",
       "      <th>Product Card Id</th>\n",
       "      <th>Product Category Id</th>\n",
       "      <th>Product Description</th>\n",
       "      <th>Product Image</th>\n",
       "      <th>Product Name</th>\n",
       "      <th>Product Price</th>\n",
       "      <th>Product Status</th>\n",
       "      <th>shipping date (DateOrders)</th>\n",
       "      <th>Shipping Mode</th>\n",
       "    </tr>\n",
       "  </thead>\n",
       "  <tbody>\n",
       "    <tr>\n",
       "      <th>0</th>\n",
       "      <td>DEBIT</td>\n",
       "      <td>3</td>\n",
       "      <td>4</td>\n",
       "      <td>91.250000</td>\n",
       "      <td>314.640015</td>\n",
       "      <td>Advance shipping</td>\n",
       "      <td>0</td>\n",
       "      <td>73</td>\n",
       "      <td>Sporting Goods</td>\n",
       "      <td>Caguas</td>\n",
       "      <td>...</td>\n",
       "      <td>NaN</td>\n",
       "      <td>1360</td>\n",
       "      <td>73</td>\n",
       "      <td>NaN</td>\n",
       "      <td>http://images.acmesports.sports/Smart+watch</td>\n",
       "      <td>Smart watch</td>\n",
       "      <td>327.75</td>\n",
       "      <td>0</td>\n",
       "      <td>2/3/2018 22:56</td>\n",
       "      <td>Standard Class</td>\n",
       "    </tr>\n",
       "    <tr>\n",
       "      <th>1</th>\n",
       "      <td>TRANSFER</td>\n",
       "      <td>5</td>\n",
       "      <td>4</td>\n",
       "      <td>-249.089996</td>\n",
       "      <td>311.359985</td>\n",
       "      <td>Late delivery</td>\n",
       "      <td>1</td>\n",
       "      <td>73</td>\n",
       "      <td>Sporting Goods</td>\n",
       "      <td>Caguas</td>\n",
       "      <td>...</td>\n",
       "      <td>NaN</td>\n",
       "      <td>1360</td>\n",
       "      <td>73</td>\n",
       "      <td>NaN</td>\n",
       "      <td>http://images.acmesports.sports/Smart+watch</td>\n",
       "      <td>Smart watch</td>\n",
       "      <td>327.75</td>\n",
       "      <td>0</td>\n",
       "      <td>1/18/2018 12:27</td>\n",
       "      <td>Standard Class</td>\n",
       "    </tr>\n",
       "    <tr>\n",
       "      <th>2</th>\n",
       "      <td>CASH</td>\n",
       "      <td>4</td>\n",
       "      <td>4</td>\n",
       "      <td>-247.779999</td>\n",
       "      <td>309.720001</td>\n",
       "      <td>Shipping on time</td>\n",
       "      <td>0</td>\n",
       "      <td>73</td>\n",
       "      <td>Sporting Goods</td>\n",
       "      <td>San Jose</td>\n",
       "      <td>...</td>\n",
       "      <td>NaN</td>\n",
       "      <td>1360</td>\n",
       "      <td>73</td>\n",
       "      <td>NaN</td>\n",
       "      <td>http://images.acmesports.sports/Smart+watch</td>\n",
       "      <td>Smart watch</td>\n",
       "      <td>327.75</td>\n",
       "      <td>0</td>\n",
       "      <td>1/17/2018 12:06</td>\n",
       "      <td>Standard Class</td>\n",
       "    </tr>\n",
       "    <tr>\n",
       "      <th>3</th>\n",
       "      <td>DEBIT</td>\n",
       "      <td>3</td>\n",
       "      <td>4</td>\n",
       "      <td>22.860001</td>\n",
       "      <td>304.809998</td>\n",
       "      <td>Advance shipping</td>\n",
       "      <td>0</td>\n",
       "      <td>73</td>\n",
       "      <td>Sporting Goods</td>\n",
       "      <td>Los Angeles</td>\n",
       "      <td>...</td>\n",
       "      <td>NaN</td>\n",
       "      <td>1360</td>\n",
       "      <td>73</td>\n",
       "      <td>NaN</td>\n",
       "      <td>http://images.acmesports.sports/Smart+watch</td>\n",
       "      <td>Smart watch</td>\n",
       "      <td>327.75</td>\n",
       "      <td>0</td>\n",
       "      <td>1/16/2018 11:45</td>\n",
       "      <td>Standard Class</td>\n",
       "    </tr>\n",
       "    <tr>\n",
       "      <th>4</th>\n",
       "      <td>PAYMENT</td>\n",
       "      <td>2</td>\n",
       "      <td>4</td>\n",
       "      <td>134.210007</td>\n",
       "      <td>298.250000</td>\n",
       "      <td>Advance shipping</td>\n",
       "      <td>0</td>\n",
       "      <td>73</td>\n",
       "      <td>Sporting Goods</td>\n",
       "      <td>Caguas</td>\n",
       "      <td>...</td>\n",
       "      <td>NaN</td>\n",
       "      <td>1360</td>\n",
       "      <td>73</td>\n",
       "      <td>NaN</td>\n",
       "      <td>http://images.acmesports.sports/Smart+watch</td>\n",
       "      <td>Smart watch</td>\n",
       "      <td>327.75</td>\n",
       "      <td>0</td>\n",
       "      <td>1/15/2018 11:24</td>\n",
       "      <td>Standard Class</td>\n",
       "    </tr>\n",
       "  </tbody>\n",
       "</table>\n",
       "<p>5 rows × 53 columns</p>\n",
       "</div>"
      ],
      "text/plain": [
       "       Type  Days for shipping (real)  Days for shipment (scheduled)  \\\n",
       "0     DEBIT                         3                              4   \n",
       "1  TRANSFER                         5                              4   \n",
       "2      CASH                         4                              4   \n",
       "3     DEBIT                         3                              4   \n",
       "4   PAYMENT                         2                              4   \n",
       "\n",
       "   Benefit per order  Sales per customer   Delivery Status  \\\n",
       "0          91.250000          314.640015  Advance shipping   \n",
       "1        -249.089996          311.359985     Late delivery   \n",
       "2        -247.779999          309.720001  Shipping on time   \n",
       "3          22.860001          304.809998  Advance shipping   \n",
       "4         134.210007          298.250000  Advance shipping   \n",
       "\n",
       "   Late_delivery_risk  Category Id   Category Name Customer City  ...  \\\n",
       "0                   0           73  Sporting Goods        Caguas  ...   \n",
       "1                   1           73  Sporting Goods        Caguas  ...   \n",
       "2                   0           73  Sporting Goods      San Jose  ...   \n",
       "3                   0           73  Sporting Goods   Los Angeles  ...   \n",
       "4                   0           73  Sporting Goods        Caguas  ...   \n",
       "\n",
       "  Order Zipcode Product Card Id Product Category Id  Product Description  \\\n",
       "0           NaN            1360                  73                  NaN   \n",
       "1           NaN            1360                  73                  NaN   \n",
       "2           NaN            1360                  73                  NaN   \n",
       "3           NaN            1360                  73                  NaN   \n",
       "4           NaN            1360                  73                  NaN   \n",
       "\n",
       "                                  Product Image  Product Name Product Price  \\\n",
       "0  http://images.acmesports.sports/Smart+watch   Smart watch         327.75   \n",
       "1  http://images.acmesports.sports/Smart+watch   Smart watch         327.75   \n",
       "2  http://images.acmesports.sports/Smart+watch   Smart watch         327.75   \n",
       "3  http://images.acmesports.sports/Smart+watch   Smart watch         327.75   \n",
       "4  http://images.acmesports.sports/Smart+watch   Smart watch         327.75   \n",
       "\n",
       "  Product Status shipping date (DateOrders)   Shipping Mode  \n",
       "0              0             2/3/2018 22:56  Standard Class  \n",
       "1              0            1/18/2018 12:27  Standard Class  \n",
       "2              0            1/17/2018 12:06  Standard Class  \n",
       "3              0            1/16/2018 11:45  Standard Class  \n",
       "4              0            1/15/2018 11:24  Standard Class  \n",
       "\n",
       "[5 rows x 53 columns]"
      ]
     },
     "execution_count": 5,
     "metadata": {},
     "output_type": "execute_result"
    }
   ],
   "source": [
    "df.head()"
   ]
  },
  {
   "cell_type": "code",
   "execution_count": 6,
   "id": "d3402eb1",
   "metadata": {},
   "outputs": [
    {
     "data": {
      "text/html": [
       "<div>\n",
       "<style scoped>\n",
       "    .dataframe tbody tr th:only-of-type {\n",
       "        vertical-align: middle;\n",
       "    }\n",
       "\n",
       "    .dataframe tbody tr th {\n",
       "        vertical-align: top;\n",
       "    }\n",
       "\n",
       "    .dataframe thead th {\n",
       "        text-align: right;\n",
       "    }\n",
       "</style>\n",
       "<table border=\"1\" class=\"dataframe\">\n",
       "  <thead>\n",
       "    <tr style=\"text-align: right;\">\n",
       "      <th></th>\n",
       "      <th>Department Id</th>\n",
       "      <th>Department Name</th>\n",
       "    </tr>\n",
       "  </thead>\n",
       "  <tbody>\n",
       "    <tr>\n",
       "      <th>0</th>\n",
       "      <td>2</td>\n",
       "      <td>Fitness</td>\n",
       "    </tr>\n",
       "    <tr>\n",
       "      <th>1</th>\n",
       "      <td>2</td>\n",
       "      <td>Fitness</td>\n",
       "    </tr>\n",
       "    <tr>\n",
       "      <th>2</th>\n",
       "      <td>2</td>\n",
       "      <td>Fitness</td>\n",
       "    </tr>\n",
       "    <tr>\n",
       "      <th>3</th>\n",
       "      <td>2</td>\n",
       "      <td>Fitness</td>\n",
       "    </tr>\n",
       "    <tr>\n",
       "      <th>4</th>\n",
       "      <td>2</td>\n",
       "      <td>Fitness</td>\n",
       "    </tr>\n",
       "    <tr>\n",
       "      <th>...</th>\n",
       "      <td>...</td>\n",
       "      <td>...</td>\n",
       "    </tr>\n",
       "    <tr>\n",
       "      <th>180514</th>\n",
       "      <td>7</td>\n",
       "      <td>Fan Shop</td>\n",
       "    </tr>\n",
       "    <tr>\n",
       "      <th>180515</th>\n",
       "      <td>7</td>\n",
       "      <td>Fan Shop</td>\n",
       "    </tr>\n",
       "    <tr>\n",
       "      <th>180516</th>\n",
       "      <td>7</td>\n",
       "      <td>Fan Shop</td>\n",
       "    </tr>\n",
       "    <tr>\n",
       "      <th>180517</th>\n",
       "      <td>7</td>\n",
       "      <td>Fan Shop</td>\n",
       "    </tr>\n",
       "    <tr>\n",
       "      <th>180518</th>\n",
       "      <td>7</td>\n",
       "      <td>Fan Shop</td>\n",
       "    </tr>\n",
       "  </tbody>\n",
       "</table>\n",
       "<p>180519 rows × 2 columns</p>\n",
       "</div>"
      ],
      "text/plain": [
       "        Department Id Department Name\n",
       "0                   2         Fitness\n",
       "1                   2         Fitness\n",
       "2                   2         Fitness\n",
       "3                   2         Fitness\n",
       "4                   2         Fitness\n",
       "...               ...             ...\n",
       "180514              7        Fan Shop\n",
       "180515              7        Fan Shop\n",
       "180516              7        Fan Shop\n",
       "180517              7        Fan Shop\n",
       "180518              7        Fan Shop\n",
       "\n",
       "[180519 rows x 2 columns]"
      ]
     },
     "execution_count": 6,
     "metadata": {},
     "output_type": "execute_result"
    }
   ],
   "source": [
    "df[['Department Id', 'Department Name']]"
   ]
  },
  {
   "cell_type": "code",
   "execution_count": 7,
   "id": "c22eb104",
   "metadata": {},
   "outputs": [
    {
     "data": {
      "text/html": [
       "<div>\n",
       "<style scoped>\n",
       "    .dataframe tbody tr th:only-of-type {\n",
       "        vertical-align: middle;\n",
       "    }\n",
       "\n",
       "    .dataframe tbody tr th {\n",
       "        vertical-align: top;\n",
       "    }\n",
       "\n",
       "    .dataframe thead th {\n",
       "        text-align: right;\n",
       "    }\n",
       "</style>\n",
       "<table border=\"1\" class=\"dataframe\">\n",
       "  <thead>\n",
       "    <tr style=\"text-align: right;\">\n",
       "      <th></th>\n",
       "      <th>Category Id</th>\n",
       "      <th>Category Name</th>\n",
       "    </tr>\n",
       "  </thead>\n",
       "  <tbody>\n",
       "    <tr>\n",
       "      <th>0</th>\n",
       "      <td>73</td>\n",
       "      <td>Sporting Goods</td>\n",
       "    </tr>\n",
       "    <tr>\n",
       "      <th>1</th>\n",
       "      <td>73</td>\n",
       "      <td>Sporting Goods</td>\n",
       "    </tr>\n",
       "    <tr>\n",
       "      <th>2</th>\n",
       "      <td>73</td>\n",
       "      <td>Sporting Goods</td>\n",
       "    </tr>\n",
       "    <tr>\n",
       "      <th>3</th>\n",
       "      <td>73</td>\n",
       "      <td>Sporting Goods</td>\n",
       "    </tr>\n",
       "    <tr>\n",
       "      <th>4</th>\n",
       "      <td>73</td>\n",
       "      <td>Sporting Goods</td>\n",
       "    </tr>\n",
       "    <tr>\n",
       "      <th>...</th>\n",
       "      <td>...</td>\n",
       "      <td>...</td>\n",
       "    </tr>\n",
       "    <tr>\n",
       "      <th>180514</th>\n",
       "      <td>45</td>\n",
       "      <td>Fishing</td>\n",
       "    </tr>\n",
       "    <tr>\n",
       "      <th>180515</th>\n",
       "      <td>45</td>\n",
       "      <td>Fishing</td>\n",
       "    </tr>\n",
       "    <tr>\n",
       "      <th>180516</th>\n",
       "      <td>45</td>\n",
       "      <td>Fishing</td>\n",
       "    </tr>\n",
       "    <tr>\n",
       "      <th>180517</th>\n",
       "      <td>45</td>\n",
       "      <td>Fishing</td>\n",
       "    </tr>\n",
       "    <tr>\n",
       "      <th>180518</th>\n",
       "      <td>45</td>\n",
       "      <td>Fishing</td>\n",
       "    </tr>\n",
       "  </tbody>\n",
       "</table>\n",
       "<p>180519 rows × 2 columns</p>\n",
       "</div>"
      ],
      "text/plain": [
       "        Category Id   Category Name\n",
       "0                73  Sporting Goods\n",
       "1                73  Sporting Goods\n",
       "2                73  Sporting Goods\n",
       "3                73  Sporting Goods\n",
       "4                73  Sporting Goods\n",
       "...             ...             ...\n",
       "180514           45         Fishing\n",
       "180515           45         Fishing\n",
       "180516           45         Fishing\n",
       "180517           45         Fishing\n",
       "180518           45         Fishing\n",
       "\n",
       "[180519 rows x 2 columns]"
      ]
     },
     "execution_count": 7,
     "metadata": {},
     "output_type": "execute_result"
    }
   ],
   "source": [
    "df[['Category Id', 'Category Name']]"
   ]
  },
  {
   "cell_type": "markdown",
   "id": "33cc53b9",
   "metadata": {},
   "source": [
    "# Tb Fact Sales"
   ]
  },
  {
   "cell_type": "code",
   "execution_count": 8,
   "id": "503ea4cd",
   "metadata": {},
   "outputs": [],
   "source": [
    "tb_fact_sales = df[['Order Id', 'Order Item Id', 'Sales']]"
   ]
  },
  {
   "cell_type": "code",
   "execution_count": 9,
   "id": "246ec8b0",
   "metadata": {},
   "outputs": [
    {
     "data": {
      "text/plain": [
       "(180519, 3)"
      ]
     },
     "execution_count": 9,
     "metadata": {},
     "output_type": "execute_result"
    }
   ],
   "source": [
    "tb_fact_sales.shape"
   ]
  },
  {
   "cell_type": "code",
   "execution_count": 10,
   "id": "c175713d",
   "metadata": {},
   "outputs": [
    {
     "data": {
      "text/html": [
       "<div>\n",
       "<style scoped>\n",
       "    .dataframe tbody tr th:only-of-type {\n",
       "        vertical-align: middle;\n",
       "    }\n",
       "\n",
       "    .dataframe tbody tr th {\n",
       "        vertical-align: top;\n",
       "    }\n",
       "\n",
       "    .dataframe thead th {\n",
       "        text-align: right;\n",
       "    }\n",
       "</style>\n",
       "<table border=\"1\" class=\"dataframe\">\n",
       "  <thead>\n",
       "    <tr style=\"text-align: right;\">\n",
       "      <th></th>\n",
       "      <th>Order Id</th>\n",
       "      <th>Order Item Id</th>\n",
       "      <th>Sales</th>\n",
       "    </tr>\n",
       "  </thead>\n",
       "  <tbody>\n",
       "    <tr>\n",
       "      <th>0</th>\n",
       "      <td>77202</td>\n",
       "      <td>180517</td>\n",
       "      <td>327.75</td>\n",
       "    </tr>\n",
       "    <tr>\n",
       "      <th>1</th>\n",
       "      <td>75939</td>\n",
       "      <td>179254</td>\n",
       "      <td>327.75</td>\n",
       "    </tr>\n",
       "    <tr>\n",
       "      <th>2</th>\n",
       "      <td>75938</td>\n",
       "      <td>179253</td>\n",
       "      <td>327.75</td>\n",
       "    </tr>\n",
       "    <tr>\n",
       "      <th>3</th>\n",
       "      <td>75937</td>\n",
       "      <td>179252</td>\n",
       "      <td>327.75</td>\n",
       "    </tr>\n",
       "    <tr>\n",
       "      <th>4</th>\n",
       "      <td>75936</td>\n",
       "      <td>179251</td>\n",
       "      <td>327.75</td>\n",
       "    </tr>\n",
       "  </tbody>\n",
       "</table>\n",
       "</div>"
      ],
      "text/plain": [
       "   Order Id  Order Item Id   Sales\n",
       "0     77202         180517  327.75\n",
       "1     75939         179254  327.75\n",
       "2     75938         179253  327.75\n",
       "3     75937         179252  327.75\n",
       "4     75936         179251  327.75"
      ]
     },
     "execution_count": 10,
     "metadata": {},
     "output_type": "execute_result"
    }
   ],
   "source": [
    "tb_fact_sales.head()"
   ]
  },
  {
   "cell_type": "code",
   "execution_count": 11,
   "id": "b7d88608",
   "metadata": {},
   "outputs": [
    {
     "data": {
      "text/plain": [
       "Order Id\n",
       "48880    5\n",
       "3605     5\n",
       "28265    5\n",
       "50037    5\n",
       "27861    5\n",
       "        ..\n",
       "42011    1\n",
       "42068    1\n",
       "42072    1\n",
       "42118    1\n",
       "26118    1\n",
       "Name: count, Length: 65752, dtype: int64"
      ]
     },
     "execution_count": 11,
     "metadata": {},
     "output_type": "execute_result"
    }
   ],
   "source": [
    "tb_fact_sales['Order Id'].value_counts(ascending=False)"
   ]
  },
  {
   "cell_type": "code",
   "execution_count": 12,
   "id": "c4ad687a",
   "metadata": {},
   "outputs": [
    {
     "data": {
      "text/plain": [
       "Order Id\n",
       "48880    5\n",
       "3605     5\n",
       "28265    5\n",
       "50037    5\n",
       "27861    5\n",
       "        ..\n",
       "42011    1\n",
       "42068    1\n",
       "42072    1\n",
       "42118    1\n",
       "26118    1\n",
       "Name: count, Length: 65752, dtype: int64"
      ]
     },
     "execution_count": 12,
     "metadata": {},
     "output_type": "execute_result"
    }
   ],
   "source": [
    "tb_fact_sales['Order Id'].value_counts(ascending=False)"
   ]
  },
  {
   "cell_type": "code",
   "execution_count": 13,
   "id": "e2ee56e2",
   "metadata": {},
   "outputs": [
    {
     "data": {
      "text/html": [
       "<div>\n",
       "<style scoped>\n",
       "    .dataframe tbody tr th:only-of-type {\n",
       "        vertical-align: middle;\n",
       "    }\n",
       "\n",
       "    .dataframe tbody tr th {\n",
       "        vertical-align: top;\n",
       "    }\n",
       "\n",
       "    .dataframe thead th {\n",
       "        text-align: right;\n",
       "    }\n",
       "</style>\n",
       "<table border=\"1\" class=\"dataframe\">\n",
       "  <thead>\n",
       "    <tr style=\"text-align: right;\">\n",
       "      <th></th>\n",
       "      <th>Order Id</th>\n",
       "      <th>Order Item Id</th>\n",
       "      <th>Sales</th>\n",
       "    </tr>\n",
       "  </thead>\n",
       "  <tbody>\n",
       "    <tr>\n",
       "      <th>118698</th>\n",
       "      <td>48880</td>\n",
       "      <td>122220</td>\n",
       "      <td>129.990005</td>\n",
       "    </tr>\n",
       "    <tr>\n",
       "      <th>119105</th>\n",
       "      <td>48880</td>\n",
       "      <td>122221</td>\n",
       "      <td>199.979996</td>\n",
       "    </tr>\n",
       "    <tr>\n",
       "      <th>119676</th>\n",
       "      <td>48880</td>\n",
       "      <td>122222</td>\n",
       "      <td>159.960007</td>\n",
       "    </tr>\n",
       "    <tr>\n",
       "      <th>119677</th>\n",
       "      <td>48880</td>\n",
       "      <td>122218</td>\n",
       "      <td>159.960007</td>\n",
       "    </tr>\n",
       "    <tr>\n",
       "      <th>119995</th>\n",
       "      <td>48880</td>\n",
       "      <td>122219</td>\n",
       "      <td>250.000000</td>\n",
       "    </tr>\n",
       "  </tbody>\n",
       "</table>\n",
       "</div>"
      ],
      "text/plain": [
       "        Order Id  Order Item Id       Sales\n",
       "118698     48880         122220  129.990005\n",
       "119105     48880         122221  199.979996\n",
       "119676     48880         122222  159.960007\n",
       "119677     48880         122218  159.960007\n",
       "119995     48880         122219  250.000000"
      ]
     },
     "execution_count": 13,
     "metadata": {},
     "output_type": "execute_result"
    }
   ],
   "source": [
    "tb_fact_sales[tb_fact_sales['Order Id'] == 48880]"
   ]
  },
  {
   "cell_type": "markdown",
   "id": "6b0686a2",
   "metadata": {},
   "source": [
    "# Order"
   ]
  },
  {
   "cell_type": "code",
   "execution_count": 94,
   "id": "f95d00f2",
   "metadata": {},
   "outputs": [],
   "source": [
    "tb_dim_order = df[['Order Id', 'Type' ,'order date (DateOrders)', 'Order Status', 'Market', 'Order Region', 'Order Country', 'Order State', 'Order City', 'Days for shipping (real)', 'Days for shipment (scheduled)','Delivery Status','Late_delivery_risk', 'shipping date (DateOrders)', 'Shipping Mode','Customer Id']]"
   ]
  },
  {
   "cell_type": "code",
   "execution_count": 95,
   "id": "64a74a0d",
   "metadata": {},
   "outputs": [
    {
     "data": {
      "text/plain": [
       "(180519, 16)"
      ]
     },
     "execution_count": 95,
     "metadata": {},
     "output_type": "execute_result"
    }
   ],
   "source": [
    "tb_dim_order.shape"
   ]
  },
  {
   "cell_type": "code",
   "execution_count": 96,
   "id": "7ff6aa3e",
   "metadata": {},
   "outputs": [
    {
     "data": {
      "text/html": [
       "<div>\n",
       "<style scoped>\n",
       "    .dataframe tbody tr th:only-of-type {\n",
       "        vertical-align: middle;\n",
       "    }\n",
       "\n",
       "    .dataframe tbody tr th {\n",
       "        vertical-align: top;\n",
       "    }\n",
       "\n",
       "    .dataframe thead th {\n",
       "        text-align: right;\n",
       "    }\n",
       "</style>\n",
       "<table border=\"1\" class=\"dataframe\">\n",
       "  <thead>\n",
       "    <tr style=\"text-align: right;\">\n",
       "      <th></th>\n",
       "      <th>Order Id</th>\n",
       "      <th>Type</th>\n",
       "      <th>order date (DateOrders)</th>\n",
       "      <th>Order Status</th>\n",
       "      <th>Market</th>\n",
       "      <th>Order Region</th>\n",
       "      <th>Order Country</th>\n",
       "      <th>Order State</th>\n",
       "      <th>Order City</th>\n",
       "      <th>Days for shipping (real)</th>\n",
       "      <th>Days for shipment (scheduled)</th>\n",
       "      <th>Delivery Status</th>\n",
       "      <th>Late_delivery_risk</th>\n",
       "      <th>shipping date (DateOrders)</th>\n",
       "      <th>Shipping Mode</th>\n",
       "      <th>Customer Id</th>\n",
       "    </tr>\n",
       "  </thead>\n",
       "  <tbody>\n",
       "    <tr>\n",
       "      <th>0</th>\n",
       "      <td>77202</td>\n",
       "      <td>DEBIT</td>\n",
       "      <td>1/31/2018 22:56</td>\n",
       "      <td>COMPLETE</td>\n",
       "      <td>Pacific Asia</td>\n",
       "      <td>Southeast Asia</td>\n",
       "      <td>Indonesia</td>\n",
       "      <td>Java Occidental</td>\n",
       "      <td>Bekasi</td>\n",
       "      <td>3</td>\n",
       "      <td>4</td>\n",
       "      <td>Advance shipping</td>\n",
       "      <td>0</td>\n",
       "      <td>2/3/2018 22:56</td>\n",
       "      <td>Standard Class</td>\n",
       "      <td>20755</td>\n",
       "    </tr>\n",
       "    <tr>\n",
       "      <th>1</th>\n",
       "      <td>75939</td>\n",
       "      <td>TRANSFER</td>\n",
       "      <td>1/13/2018 12:27</td>\n",
       "      <td>PENDING</td>\n",
       "      <td>Pacific Asia</td>\n",
       "      <td>South Asia</td>\n",
       "      <td>India</td>\n",
       "      <td>Rajastán</td>\n",
       "      <td>Bikaner</td>\n",
       "      <td>5</td>\n",
       "      <td>4</td>\n",
       "      <td>Late delivery</td>\n",
       "      <td>1</td>\n",
       "      <td>1/18/2018 12:27</td>\n",
       "      <td>Standard Class</td>\n",
       "      <td>19492</td>\n",
       "    </tr>\n",
       "    <tr>\n",
       "      <th>2</th>\n",
       "      <td>75938</td>\n",
       "      <td>CASH</td>\n",
       "      <td>1/13/2018 12:06</td>\n",
       "      <td>CLOSED</td>\n",
       "      <td>Pacific Asia</td>\n",
       "      <td>South Asia</td>\n",
       "      <td>India</td>\n",
       "      <td>Rajastán</td>\n",
       "      <td>Bikaner</td>\n",
       "      <td>4</td>\n",
       "      <td>4</td>\n",
       "      <td>Shipping on time</td>\n",
       "      <td>0</td>\n",
       "      <td>1/17/2018 12:06</td>\n",
       "      <td>Standard Class</td>\n",
       "      <td>19491</td>\n",
       "    </tr>\n",
       "    <tr>\n",
       "      <th>3</th>\n",
       "      <td>75937</td>\n",
       "      <td>DEBIT</td>\n",
       "      <td>1/13/2018 11:45</td>\n",
       "      <td>COMPLETE</td>\n",
       "      <td>Pacific Asia</td>\n",
       "      <td>Oceania</td>\n",
       "      <td>Australia</td>\n",
       "      <td>Queensland</td>\n",
       "      <td>Townsville</td>\n",
       "      <td>3</td>\n",
       "      <td>4</td>\n",
       "      <td>Advance shipping</td>\n",
       "      <td>0</td>\n",
       "      <td>1/16/2018 11:45</td>\n",
       "      <td>Standard Class</td>\n",
       "      <td>19490</td>\n",
       "    </tr>\n",
       "    <tr>\n",
       "      <th>4</th>\n",
       "      <td>75936</td>\n",
       "      <td>PAYMENT</td>\n",
       "      <td>1/13/2018 11:24</td>\n",
       "      <td>PENDING_PAYMENT</td>\n",
       "      <td>Pacific Asia</td>\n",
       "      <td>Oceania</td>\n",
       "      <td>Australia</td>\n",
       "      <td>Queensland</td>\n",
       "      <td>Townsville</td>\n",
       "      <td>2</td>\n",
       "      <td>4</td>\n",
       "      <td>Advance shipping</td>\n",
       "      <td>0</td>\n",
       "      <td>1/15/2018 11:24</td>\n",
       "      <td>Standard Class</td>\n",
       "      <td>19489</td>\n",
       "    </tr>\n",
       "  </tbody>\n",
       "</table>\n",
       "</div>"
      ],
      "text/plain": [
       "   Order Id      Type order date (DateOrders)     Order Status        Market  \\\n",
       "0     77202     DEBIT         1/31/2018 22:56         COMPLETE  Pacific Asia   \n",
       "1     75939  TRANSFER         1/13/2018 12:27          PENDING  Pacific Asia   \n",
       "2     75938      CASH         1/13/2018 12:06           CLOSED  Pacific Asia   \n",
       "3     75937     DEBIT         1/13/2018 11:45         COMPLETE  Pacific Asia   \n",
       "4     75936   PAYMENT         1/13/2018 11:24  PENDING_PAYMENT  Pacific Asia   \n",
       "\n",
       "     Order Region Order Country      Order State  Order City  \\\n",
       "0  Southeast Asia     Indonesia  Java Occidental      Bekasi   \n",
       "1      South Asia         India         Rajastán     Bikaner   \n",
       "2      South Asia         India         Rajastán     Bikaner   \n",
       "3         Oceania     Australia       Queensland  Townsville   \n",
       "4         Oceania     Australia       Queensland  Townsville   \n",
       "\n",
       "   Days for shipping (real)  Days for shipment (scheduled)   Delivery Status  \\\n",
       "0                         3                              4  Advance shipping   \n",
       "1                         5                              4     Late delivery   \n",
       "2                         4                              4  Shipping on time   \n",
       "3                         3                              4  Advance shipping   \n",
       "4                         2                              4  Advance shipping   \n",
       "\n",
       "   Late_delivery_risk shipping date (DateOrders)   Shipping Mode  Customer Id  \n",
       "0                   0             2/3/2018 22:56  Standard Class        20755  \n",
       "1                   1            1/18/2018 12:27  Standard Class        19492  \n",
       "2                   0            1/17/2018 12:06  Standard Class        19491  \n",
       "3                   0            1/16/2018 11:45  Standard Class        19490  \n",
       "4                   0            1/15/2018 11:24  Standard Class        19489  "
      ]
     },
     "execution_count": 96,
     "metadata": {},
     "output_type": "execute_result"
    }
   ],
   "source": [
    "tb_dim_order.head()"
   ]
  },
  {
   "cell_type": "code",
   "execution_count": 97,
   "id": "8c05c4f3",
   "metadata": {},
   "outputs": [
    {
     "data": {
      "text/plain": [
       "Order Id\n",
       "48880    5\n",
       "3605     5\n",
       "28265    5\n",
       "50037    5\n",
       "27861    5\n",
       "        ..\n",
       "42011    1\n",
       "42068    1\n",
       "42072    1\n",
       "42118    1\n",
       "26118    1\n",
       "Name: count, Length: 65752, dtype: int64"
      ]
     },
     "execution_count": 97,
     "metadata": {},
     "output_type": "execute_result"
    }
   ],
   "source": [
    "tb_dim_order['Order Id'].value_counts(ascending=False)"
   ]
  },
  {
   "cell_type": "code",
   "execution_count": 98,
   "id": "e2b03678",
   "metadata": {},
   "outputs": [
    {
     "data": {
      "text/html": [
       "<div>\n",
       "<style scoped>\n",
       "    .dataframe tbody tr th:only-of-type {\n",
       "        vertical-align: middle;\n",
       "    }\n",
       "\n",
       "    .dataframe tbody tr th {\n",
       "        vertical-align: top;\n",
       "    }\n",
       "\n",
       "    .dataframe thead th {\n",
       "        text-align: right;\n",
       "    }\n",
       "</style>\n",
       "<table border=\"1\" class=\"dataframe\">\n",
       "  <thead>\n",
       "    <tr style=\"text-align: right;\">\n",
       "      <th></th>\n",
       "      <th>Order Id</th>\n",
       "      <th>Type</th>\n",
       "      <th>order date (DateOrders)</th>\n",
       "      <th>Order Status</th>\n",
       "      <th>Market</th>\n",
       "      <th>Order Region</th>\n",
       "      <th>Order Country</th>\n",
       "      <th>Order State</th>\n",
       "      <th>Order City</th>\n",
       "      <th>Days for shipping (real)</th>\n",
       "      <th>Days for shipment (scheduled)</th>\n",
       "      <th>Delivery Status</th>\n",
       "      <th>Late_delivery_risk</th>\n",
       "      <th>shipping date (DateOrders)</th>\n",
       "      <th>Shipping Mode</th>\n",
       "      <th>Customer Id</th>\n",
       "    </tr>\n",
       "  </thead>\n",
       "  <tbody>\n",
       "    <tr>\n",
       "      <th>118698</th>\n",
       "      <td>48880</td>\n",
       "      <td>TRANSFER</td>\n",
       "      <td>12/14/2016 12:29</td>\n",
       "      <td>PROCESSING</td>\n",
       "      <td>Pacific Asia</td>\n",
       "      <td>West Asia</td>\n",
       "      <td>Arabia Saudí</td>\n",
       "      <td>Ash Sharqiyah</td>\n",
       "      <td>Al Mubarraz</td>\n",
       "      <td>6</td>\n",
       "      <td>2</td>\n",
       "      <td>Late delivery</td>\n",
       "      <td>1</td>\n",
       "      <td>12/20/2016 12:29</td>\n",
       "      <td>Second Class</td>\n",
       "      <td>3714</td>\n",
       "    </tr>\n",
       "    <tr>\n",
       "      <th>119105</th>\n",
       "      <td>48880</td>\n",
       "      <td>TRANSFER</td>\n",
       "      <td>12/14/2016 12:29</td>\n",
       "      <td>PROCESSING</td>\n",
       "      <td>Pacific Asia</td>\n",
       "      <td>West Asia</td>\n",
       "      <td>Arabia Saudí</td>\n",
       "      <td>Ash Sharqiyah</td>\n",
       "      <td>Al Mubarraz</td>\n",
       "      <td>6</td>\n",
       "      <td>2</td>\n",
       "      <td>Late delivery</td>\n",
       "      <td>1</td>\n",
       "      <td>12/20/2016 12:29</td>\n",
       "      <td>Second Class</td>\n",
       "      <td>3714</td>\n",
       "    </tr>\n",
       "    <tr>\n",
       "      <th>119676</th>\n",
       "      <td>48880</td>\n",
       "      <td>TRANSFER</td>\n",
       "      <td>12/14/2016 12:29</td>\n",
       "      <td>PROCESSING</td>\n",
       "      <td>Pacific Asia</td>\n",
       "      <td>West Asia</td>\n",
       "      <td>Arabia Saudí</td>\n",
       "      <td>Ash Sharqiyah</td>\n",
       "      <td>Al Mubarraz</td>\n",
       "      <td>6</td>\n",
       "      <td>2</td>\n",
       "      <td>Late delivery</td>\n",
       "      <td>1</td>\n",
       "      <td>12/20/2016 12:29</td>\n",
       "      <td>Second Class</td>\n",
       "      <td>3714</td>\n",
       "    </tr>\n",
       "    <tr>\n",
       "      <th>119677</th>\n",
       "      <td>48880</td>\n",
       "      <td>TRANSFER</td>\n",
       "      <td>12/14/2016 12:29</td>\n",
       "      <td>PROCESSING</td>\n",
       "      <td>Pacific Asia</td>\n",
       "      <td>West Asia</td>\n",
       "      <td>Arabia Saudí</td>\n",
       "      <td>Ash Sharqiyah</td>\n",
       "      <td>Al Mubarraz</td>\n",
       "      <td>6</td>\n",
       "      <td>2</td>\n",
       "      <td>Late delivery</td>\n",
       "      <td>1</td>\n",
       "      <td>12/20/2016 12:29</td>\n",
       "      <td>Second Class</td>\n",
       "      <td>3714</td>\n",
       "    </tr>\n",
       "    <tr>\n",
       "      <th>119995</th>\n",
       "      <td>48880</td>\n",
       "      <td>TRANSFER</td>\n",
       "      <td>12/14/2016 12:29</td>\n",
       "      <td>PROCESSING</td>\n",
       "      <td>Pacific Asia</td>\n",
       "      <td>West Asia</td>\n",
       "      <td>Arabia Saudí</td>\n",
       "      <td>Ash Sharqiyah</td>\n",
       "      <td>Al Mubarraz</td>\n",
       "      <td>6</td>\n",
       "      <td>2</td>\n",
       "      <td>Late delivery</td>\n",
       "      <td>1</td>\n",
       "      <td>12/20/2016 12:29</td>\n",
       "      <td>Second Class</td>\n",
       "      <td>3714</td>\n",
       "    </tr>\n",
       "  </tbody>\n",
       "</table>\n",
       "</div>"
      ],
      "text/plain": [
       "        Order Id      Type order date (DateOrders) Order Status        Market  \\\n",
       "118698     48880  TRANSFER        12/14/2016 12:29   PROCESSING  Pacific Asia   \n",
       "119105     48880  TRANSFER        12/14/2016 12:29   PROCESSING  Pacific Asia   \n",
       "119676     48880  TRANSFER        12/14/2016 12:29   PROCESSING  Pacific Asia   \n",
       "119677     48880  TRANSFER        12/14/2016 12:29   PROCESSING  Pacific Asia   \n",
       "119995     48880  TRANSFER        12/14/2016 12:29   PROCESSING  Pacific Asia   \n",
       "\n",
       "       Order Region Order Country    Order State   Order City  \\\n",
       "118698    West Asia  Arabia Saudí  Ash Sharqiyah  Al Mubarraz   \n",
       "119105    West Asia  Arabia Saudí  Ash Sharqiyah  Al Mubarraz   \n",
       "119676    West Asia  Arabia Saudí  Ash Sharqiyah  Al Mubarraz   \n",
       "119677    West Asia  Arabia Saudí  Ash Sharqiyah  Al Mubarraz   \n",
       "119995    West Asia  Arabia Saudí  Ash Sharqiyah  Al Mubarraz   \n",
       "\n",
       "        Days for shipping (real)  Days for shipment (scheduled)  \\\n",
       "118698                         6                              2   \n",
       "119105                         6                              2   \n",
       "119676                         6                              2   \n",
       "119677                         6                              2   \n",
       "119995                         6                              2   \n",
       "\n",
       "       Delivery Status  Late_delivery_risk shipping date (DateOrders)  \\\n",
       "118698   Late delivery                   1           12/20/2016 12:29   \n",
       "119105   Late delivery                   1           12/20/2016 12:29   \n",
       "119676   Late delivery                   1           12/20/2016 12:29   \n",
       "119677   Late delivery                   1           12/20/2016 12:29   \n",
       "119995   Late delivery                   1           12/20/2016 12:29   \n",
       "\n",
       "       Shipping Mode  Customer Id  \n",
       "118698  Second Class         3714  \n",
       "119105  Second Class         3714  \n",
       "119676  Second Class         3714  \n",
       "119677  Second Class         3714  \n",
       "119995  Second Class         3714  "
      ]
     },
     "execution_count": 98,
     "metadata": {},
     "output_type": "execute_result"
    }
   ],
   "source": [
    "tb_dim_order[tb_dim_order['Order Id'] == 48880]"
   ]
  },
  {
   "cell_type": "code",
   "execution_count": 99,
   "id": "66e707aa",
   "metadata": {},
   "outputs": [
    {
     "data": {
      "text/html": [
       "<div>\n",
       "<style scoped>\n",
       "    .dataframe tbody tr th:only-of-type {\n",
       "        vertical-align: middle;\n",
       "    }\n",
       "\n",
       "    .dataframe tbody tr th {\n",
       "        vertical-align: top;\n",
       "    }\n",
       "\n",
       "    .dataframe thead th {\n",
       "        text-align: right;\n",
       "    }\n",
       "</style>\n",
       "<table border=\"1\" class=\"dataframe\">\n",
       "  <thead>\n",
       "    <tr style=\"text-align: right;\">\n",
       "      <th></th>\n",
       "      <th>Order Id</th>\n",
       "      <th>Type</th>\n",
       "      <th>order date (DateOrders)</th>\n",
       "      <th>Order Status</th>\n",
       "      <th>Market</th>\n",
       "      <th>Order Region</th>\n",
       "      <th>Order Country</th>\n",
       "      <th>Order State</th>\n",
       "      <th>Order City</th>\n",
       "      <th>Days for shipping (real)</th>\n",
       "      <th>Days for shipment (scheduled)</th>\n",
       "      <th>Delivery Status</th>\n",
       "      <th>Late_delivery_risk</th>\n",
       "      <th>shipping date (DateOrders)</th>\n",
       "      <th>Shipping Mode</th>\n",
       "      <th>Customer Id</th>\n",
       "    </tr>\n",
       "  </thead>\n",
       "  <tbody>\n",
       "    <tr>\n",
       "      <th>62362</th>\n",
       "      <td>3605</td>\n",
       "      <td>TRANSFER</td>\n",
       "      <td>2/22/2015 14:38</td>\n",
       "      <td>PROCESSING</td>\n",
       "      <td>LATAM</td>\n",
       "      <td>Central America</td>\n",
       "      <td>Nicaragua</td>\n",
       "      <td>Managua</td>\n",
       "      <td>Managua</td>\n",
       "      <td>6</td>\n",
       "      <td>4</td>\n",
       "      <td>Late delivery</td>\n",
       "      <td>1</td>\n",
       "      <td>2/28/2015 14:38</td>\n",
       "      <td>Standard Class</td>\n",
       "      <td>6083</td>\n",
       "    </tr>\n",
       "    <tr>\n",
       "      <th>62369</th>\n",
       "      <td>3605</td>\n",
       "      <td>TRANSFER</td>\n",
       "      <td>2/22/2015 14:38</td>\n",
       "      <td>PROCESSING</td>\n",
       "      <td>LATAM</td>\n",
       "      <td>Central America</td>\n",
       "      <td>Nicaragua</td>\n",
       "      <td>Managua</td>\n",
       "      <td>Managua</td>\n",
       "      <td>6</td>\n",
       "      <td>4</td>\n",
       "      <td>Late delivery</td>\n",
       "      <td>1</td>\n",
       "      <td>2/28/2015 14:38</td>\n",
       "      <td>Standard Class</td>\n",
       "      <td>6083</td>\n",
       "    </tr>\n",
       "    <tr>\n",
       "      <th>85845</th>\n",
       "      <td>3605</td>\n",
       "      <td>TRANSFER</td>\n",
       "      <td>2/22/2015 14:38</td>\n",
       "      <td>PROCESSING</td>\n",
       "      <td>LATAM</td>\n",
       "      <td>Central America</td>\n",
       "      <td>Nicaragua</td>\n",
       "      <td>Managua</td>\n",
       "      <td>Managua</td>\n",
       "      <td>6</td>\n",
       "      <td>4</td>\n",
       "      <td>Late delivery</td>\n",
       "      <td>1</td>\n",
       "      <td>2/28/2015 14:38</td>\n",
       "      <td>Standard Class</td>\n",
       "      <td>6083</td>\n",
       "    </tr>\n",
       "    <tr>\n",
       "      <th>87115</th>\n",
       "      <td>3605</td>\n",
       "      <td>TRANSFER</td>\n",
       "      <td>2/22/2015 14:38</td>\n",
       "      <td>PROCESSING</td>\n",
       "      <td>LATAM</td>\n",
       "      <td>Central America</td>\n",
       "      <td>Nicaragua</td>\n",
       "      <td>Managua</td>\n",
       "      <td>Managua</td>\n",
       "      <td>6</td>\n",
       "      <td>4</td>\n",
       "      <td>Late delivery</td>\n",
       "      <td>1</td>\n",
       "      <td>2/28/2015 14:38</td>\n",
       "      <td>Standard Class</td>\n",
       "      <td>6083</td>\n",
       "    </tr>\n",
       "    <tr>\n",
       "      <th>87117</th>\n",
       "      <td>3605</td>\n",
       "      <td>TRANSFER</td>\n",
       "      <td>2/22/2015 14:38</td>\n",
       "      <td>PROCESSING</td>\n",
       "      <td>LATAM</td>\n",
       "      <td>Central America</td>\n",
       "      <td>Nicaragua</td>\n",
       "      <td>Managua</td>\n",
       "      <td>Managua</td>\n",
       "      <td>6</td>\n",
       "      <td>4</td>\n",
       "      <td>Late delivery</td>\n",
       "      <td>1</td>\n",
       "      <td>2/28/2015 14:38</td>\n",
       "      <td>Standard Class</td>\n",
       "      <td>6083</td>\n",
       "    </tr>\n",
       "  </tbody>\n",
       "</table>\n",
       "</div>"
      ],
      "text/plain": [
       "       Order Id      Type order date (DateOrders) Order Status Market  \\\n",
       "62362      3605  TRANSFER         2/22/2015 14:38   PROCESSING  LATAM   \n",
       "62369      3605  TRANSFER         2/22/2015 14:38   PROCESSING  LATAM   \n",
       "85845      3605  TRANSFER         2/22/2015 14:38   PROCESSING  LATAM   \n",
       "87115      3605  TRANSFER         2/22/2015 14:38   PROCESSING  LATAM   \n",
       "87117      3605  TRANSFER         2/22/2015 14:38   PROCESSING  LATAM   \n",
       "\n",
       "          Order Region Order Country Order State Order City  \\\n",
       "62362  Central America     Nicaragua     Managua    Managua   \n",
       "62369  Central America     Nicaragua     Managua    Managua   \n",
       "85845  Central America     Nicaragua     Managua    Managua   \n",
       "87115  Central America     Nicaragua     Managua    Managua   \n",
       "87117  Central America     Nicaragua     Managua    Managua   \n",
       "\n",
       "       Days for shipping (real)  Days for shipment (scheduled)  \\\n",
       "62362                         6                              4   \n",
       "62369                         6                              4   \n",
       "85845                         6                              4   \n",
       "87115                         6                              4   \n",
       "87117                         6                              4   \n",
       "\n",
       "      Delivery Status  Late_delivery_risk shipping date (DateOrders)  \\\n",
       "62362   Late delivery                   1            2/28/2015 14:38   \n",
       "62369   Late delivery                   1            2/28/2015 14:38   \n",
       "85845   Late delivery                   1            2/28/2015 14:38   \n",
       "87115   Late delivery                   1            2/28/2015 14:38   \n",
       "87117   Late delivery                   1            2/28/2015 14:38   \n",
       "\n",
       "        Shipping Mode  Customer Id  \n",
       "62362  Standard Class         6083  \n",
       "62369  Standard Class         6083  \n",
       "85845  Standard Class         6083  \n",
       "87115  Standard Class         6083  \n",
       "87117  Standard Class         6083  "
      ]
     },
     "execution_count": 99,
     "metadata": {},
     "output_type": "execute_result"
    }
   ],
   "source": [
    "tb_dim_order[tb_dim_order['Order Id'] == 3605]"
   ]
  },
  {
   "cell_type": "code",
   "execution_count": 100,
   "id": "ea88a865",
   "metadata": {},
   "outputs": [
    {
     "data": {
      "text/plain": [
       "Index(['Order Id', 'Type', 'order date (DateOrders)', 'Order Status', 'Market',\n",
       "       'Order Region', 'Order Country', 'Order State', 'Order City',\n",
       "       'Days for shipping (real)', 'Days for shipment (scheduled)',\n",
       "       'Delivery Status', 'Late_delivery_risk', 'shipping date (DateOrders)',\n",
       "       'Shipping Mode', 'Customer Id'],\n",
       "      dtype='object')"
      ]
     },
     "execution_count": 100,
     "metadata": {},
     "output_type": "execute_result"
    }
   ],
   "source": [
    "tb_dim_order.columns"
   ]
  },
  {
   "cell_type": "code",
   "execution_count": 101,
   "id": "40c98017",
   "metadata": {},
   "outputs": [],
   "source": [
    "tb_dim_order_grouped = tb_dim_order.groupby(by=['Order Id'])['Customer Id'].nunique().to_frame()"
   ]
  },
  {
   "cell_type": "code",
   "execution_count": 102,
   "id": "77ea592c",
   "metadata": {},
   "outputs": [
    {
     "data": {
      "text/html": [
       "<div>\n",
       "<style scoped>\n",
       "    .dataframe tbody tr th:only-of-type {\n",
       "        vertical-align: middle;\n",
       "    }\n",
       "\n",
       "    .dataframe tbody tr th {\n",
       "        vertical-align: top;\n",
       "    }\n",
       "\n",
       "    .dataframe thead th {\n",
       "        text-align: right;\n",
       "    }\n",
       "</style>\n",
       "<table border=\"1\" class=\"dataframe\">\n",
       "  <thead>\n",
       "    <tr style=\"text-align: right;\">\n",
       "      <th></th>\n",
       "      <th>Customer Id</th>\n",
       "    </tr>\n",
       "    <tr>\n",
       "      <th>Order Id</th>\n",
       "      <th></th>\n",
       "    </tr>\n",
       "  </thead>\n",
       "  <tbody>\n",
       "    <tr>\n",
       "      <th>1</th>\n",
       "      <td>1</td>\n",
       "    </tr>\n",
       "    <tr>\n",
       "      <th>52691</th>\n",
       "      <td>1</td>\n",
       "    </tr>\n",
       "    <tr>\n",
       "      <th>52578</th>\n",
       "      <td>1</td>\n",
       "    </tr>\n",
       "    <tr>\n",
       "      <th>52579</th>\n",
       "      <td>1</td>\n",
       "    </tr>\n",
       "    <tr>\n",
       "      <th>52580</th>\n",
       "      <td>1</td>\n",
       "    </tr>\n",
       "    <tr>\n",
       "      <th>...</th>\n",
       "      <td>...</td>\n",
       "    </tr>\n",
       "    <tr>\n",
       "      <th>26243</th>\n",
       "      <td>1</td>\n",
       "    </tr>\n",
       "    <tr>\n",
       "      <th>26244</th>\n",
       "      <td>1</td>\n",
       "    </tr>\n",
       "    <tr>\n",
       "      <th>26245</th>\n",
       "      <td>1</td>\n",
       "    </tr>\n",
       "    <tr>\n",
       "      <th>26246</th>\n",
       "      <td>1</td>\n",
       "    </tr>\n",
       "    <tr>\n",
       "      <th>77204</th>\n",
       "      <td>1</td>\n",
       "    </tr>\n",
       "  </tbody>\n",
       "</table>\n",
       "<p>65752 rows × 1 columns</p>\n",
       "</div>"
      ],
      "text/plain": [
       "          Customer Id\n",
       "Order Id             \n",
       "1                   1\n",
       "52691               1\n",
       "52578               1\n",
       "52579               1\n",
       "52580               1\n",
       "...               ...\n",
       "26243               1\n",
       "26244               1\n",
       "26245               1\n",
       "26246               1\n",
       "77204               1\n",
       "\n",
       "[65752 rows x 1 columns]"
      ]
     },
     "execution_count": 102,
     "metadata": {},
     "output_type": "execute_result"
    }
   ],
   "source": [
    "tb_dim_order_grouped.sort_values(by='Customer Id',ascending=False)"
   ]
  },
  {
   "cell_type": "code",
   "execution_count": 103,
   "id": "6b544dbd",
   "metadata": {},
   "outputs": [
    {
     "data": {
      "text/plain": [
       "Index(['Customer Id'], dtype='object')"
      ]
     },
     "execution_count": 103,
     "metadata": {},
     "output_type": "execute_result"
    }
   ],
   "source": [
    "tb_dim_order_grouped.columns"
   ]
  },
  {
   "cell_type": "code",
   "execution_count": 104,
   "id": "63a07a60",
   "metadata": {},
   "outputs": [
    {
     "data": {
      "text/html": [
       "<div>\n",
       "<style scoped>\n",
       "    .dataframe tbody tr th:only-of-type {\n",
       "        vertical-align: middle;\n",
       "    }\n",
       "\n",
       "    .dataframe tbody tr th {\n",
       "        vertical-align: top;\n",
       "    }\n",
       "\n",
       "    .dataframe thead th {\n",
       "        text-align: right;\n",
       "    }\n",
       "</style>\n",
       "<table border=\"1\" class=\"dataframe\">\n",
       "  <thead>\n",
       "    <tr style=\"text-align: right;\">\n",
       "      <th></th>\n",
       "      <th>Customer Id</th>\n",
       "    </tr>\n",
       "    <tr>\n",
       "      <th>Order Id</th>\n",
       "      <th></th>\n",
       "    </tr>\n",
       "  </thead>\n",
       "  <tbody>\n",
       "    <tr>\n",
       "      <th>48880</th>\n",
       "      <td>1</td>\n",
       "    </tr>\n",
       "  </tbody>\n",
       "</table>\n",
       "</div>"
      ],
      "text/plain": [
       "          Customer Id\n",
       "Order Id             \n",
       "48880               1"
      ]
     },
     "execution_count": 104,
     "metadata": {},
     "output_type": "execute_result"
    }
   ],
   "source": [
    "tb_dim_order_grouped[tb_dim_order_grouped.index == 48880]"
   ]
  },
  {
   "cell_type": "code",
   "execution_count": 25,
   "id": "aea959e3",
   "metadata": {},
   "outputs": [],
   "source": [
    "tb_dim_order_grouped = tb_dim_order.groupby(by=['Order Id'])['Order Status'].nunique().to_frame()"
   ]
  },
  {
   "cell_type": "code",
   "execution_count": 26,
   "id": "a03a01a6",
   "metadata": {},
   "outputs": [
    {
     "data": {
      "text/html": [
       "<div>\n",
       "<style scoped>\n",
       "    .dataframe tbody tr th:only-of-type {\n",
       "        vertical-align: middle;\n",
       "    }\n",
       "\n",
       "    .dataframe tbody tr th {\n",
       "        vertical-align: top;\n",
       "    }\n",
       "\n",
       "    .dataframe thead th {\n",
       "        text-align: right;\n",
       "    }\n",
       "</style>\n",
       "<table border=\"1\" class=\"dataframe\">\n",
       "  <thead>\n",
       "    <tr style=\"text-align: right;\">\n",
       "      <th></th>\n",
       "      <th>Order Status</th>\n",
       "    </tr>\n",
       "    <tr>\n",
       "      <th>Order Id</th>\n",
       "      <th></th>\n",
       "    </tr>\n",
       "  </thead>\n",
       "  <tbody>\n",
       "    <tr>\n",
       "      <th>1</th>\n",
       "      <td>1</td>\n",
       "    </tr>\n",
       "    <tr>\n",
       "      <th>52691</th>\n",
       "      <td>1</td>\n",
       "    </tr>\n",
       "    <tr>\n",
       "      <th>52578</th>\n",
       "      <td>1</td>\n",
       "    </tr>\n",
       "    <tr>\n",
       "      <th>52579</th>\n",
       "      <td>1</td>\n",
       "    </tr>\n",
       "    <tr>\n",
       "      <th>52580</th>\n",
       "      <td>1</td>\n",
       "    </tr>\n",
       "    <tr>\n",
       "      <th>...</th>\n",
       "      <td>...</td>\n",
       "    </tr>\n",
       "    <tr>\n",
       "      <th>26243</th>\n",
       "      <td>1</td>\n",
       "    </tr>\n",
       "    <tr>\n",
       "      <th>26244</th>\n",
       "      <td>1</td>\n",
       "    </tr>\n",
       "    <tr>\n",
       "      <th>26245</th>\n",
       "      <td>1</td>\n",
       "    </tr>\n",
       "    <tr>\n",
       "      <th>26246</th>\n",
       "      <td>1</td>\n",
       "    </tr>\n",
       "    <tr>\n",
       "      <th>77204</th>\n",
       "      <td>1</td>\n",
       "    </tr>\n",
       "  </tbody>\n",
       "</table>\n",
       "<p>65752 rows × 1 columns</p>\n",
       "</div>"
      ],
      "text/plain": [
       "          Order Status\n",
       "Order Id              \n",
       "1                    1\n",
       "52691                1\n",
       "52578                1\n",
       "52579                1\n",
       "52580                1\n",
       "...                ...\n",
       "26243                1\n",
       "26244                1\n",
       "26245                1\n",
       "26246                1\n",
       "77204                1\n",
       "\n",
       "[65752 rows x 1 columns]"
      ]
     },
     "execution_count": 26,
     "metadata": {},
     "output_type": "execute_result"
    }
   ],
   "source": [
    "tb_dim_order_grouped.sort_values(by='Order Status',ascending=False)"
   ]
  },
  {
   "cell_type": "code",
   "execution_count": 27,
   "id": "9129af7b",
   "metadata": {},
   "outputs": [
    {
     "name": "stderr",
     "output_type": "stream",
     "text": [
      "/tmp/ipykernel_2589/1169094549.py:1: SettingWithCopyWarning: \n",
      "A value is trying to be set on a copy of a slice from a DataFrame\n",
      "\n",
      "See the caveats in the documentation: https://pandas.pydata.org/pandas-docs/stable/user_guide/indexing.html#returning-a-view-versus-a-copy\n",
      "  tb_dim_order.drop_duplicates(subset=['Order Id'], inplace=True)\n"
     ]
    }
   ],
   "source": [
    "tb_dim_order.drop_duplicates(subset=['Order Id'], inplace=True)"
   ]
  },
  {
   "cell_type": "code",
   "execution_count": 28,
   "id": "74faa1ac",
   "metadata": {},
   "outputs": [
    {
     "data": {
      "text/plain": [
       "(65752, 9)"
      ]
     },
     "execution_count": 28,
     "metadata": {},
     "output_type": "execute_result"
    }
   ],
   "source": [
    "tb_dim_order.shape"
   ]
  },
  {
   "cell_type": "code",
   "execution_count": 29,
   "id": "8083213f",
   "metadata": {},
   "outputs": [
    {
     "data": {
      "text/html": [
       "<div>\n",
       "<style scoped>\n",
       "    .dataframe tbody tr th:only-of-type {\n",
       "        vertical-align: middle;\n",
       "    }\n",
       "\n",
       "    .dataframe tbody tr th {\n",
       "        vertical-align: top;\n",
       "    }\n",
       "\n",
       "    .dataframe thead th {\n",
       "        text-align: right;\n",
       "    }\n",
       "</style>\n",
       "<table border=\"1\" class=\"dataframe\">\n",
       "  <thead>\n",
       "    <tr style=\"text-align: right;\">\n",
       "      <th></th>\n",
       "      <th>Order Id</th>\n",
       "      <th>order date (DateOrders)</th>\n",
       "      <th>Order Status</th>\n",
       "      <th>Market</th>\n",
       "      <th>Order Region</th>\n",
       "      <th>Order Country</th>\n",
       "      <th>Order State</th>\n",
       "      <th>Order City</th>\n",
       "      <th>Customer Id</th>\n",
       "    </tr>\n",
       "  </thead>\n",
       "  <tbody>\n",
       "    <tr>\n",
       "      <th>0</th>\n",
       "      <td>77202</td>\n",
       "      <td>1/31/2018 22:56</td>\n",
       "      <td>COMPLETE</td>\n",
       "      <td>Pacific Asia</td>\n",
       "      <td>Southeast Asia</td>\n",
       "      <td>Indonesia</td>\n",
       "      <td>Java Occidental</td>\n",
       "      <td>Bekasi</td>\n",
       "      <td>20755</td>\n",
       "    </tr>\n",
       "    <tr>\n",
       "      <th>1</th>\n",
       "      <td>75939</td>\n",
       "      <td>1/13/2018 12:27</td>\n",
       "      <td>PENDING</td>\n",
       "      <td>Pacific Asia</td>\n",
       "      <td>South Asia</td>\n",
       "      <td>India</td>\n",
       "      <td>Rajastán</td>\n",
       "      <td>Bikaner</td>\n",
       "      <td>19492</td>\n",
       "    </tr>\n",
       "    <tr>\n",
       "      <th>2</th>\n",
       "      <td>75938</td>\n",
       "      <td>1/13/2018 12:06</td>\n",
       "      <td>CLOSED</td>\n",
       "      <td>Pacific Asia</td>\n",
       "      <td>South Asia</td>\n",
       "      <td>India</td>\n",
       "      <td>Rajastán</td>\n",
       "      <td>Bikaner</td>\n",
       "      <td>19491</td>\n",
       "    </tr>\n",
       "    <tr>\n",
       "      <th>3</th>\n",
       "      <td>75937</td>\n",
       "      <td>1/13/2018 11:45</td>\n",
       "      <td>COMPLETE</td>\n",
       "      <td>Pacific Asia</td>\n",
       "      <td>Oceania</td>\n",
       "      <td>Australia</td>\n",
       "      <td>Queensland</td>\n",
       "      <td>Townsville</td>\n",
       "      <td>19490</td>\n",
       "    </tr>\n",
       "    <tr>\n",
       "      <th>4</th>\n",
       "      <td>75936</td>\n",
       "      <td>1/13/2018 11:24</td>\n",
       "      <td>PENDING_PAYMENT</td>\n",
       "      <td>Pacific Asia</td>\n",
       "      <td>Oceania</td>\n",
       "      <td>Australia</td>\n",
       "      <td>Queensland</td>\n",
       "      <td>Townsville</td>\n",
       "      <td>19489</td>\n",
       "    </tr>\n",
       "  </tbody>\n",
       "</table>\n",
       "</div>"
      ],
      "text/plain": [
       "   Order Id order date (DateOrders)     Order Status        Market  \\\n",
       "0     77202         1/31/2018 22:56         COMPLETE  Pacific Asia   \n",
       "1     75939         1/13/2018 12:27          PENDING  Pacific Asia   \n",
       "2     75938         1/13/2018 12:06           CLOSED  Pacific Asia   \n",
       "3     75937         1/13/2018 11:45         COMPLETE  Pacific Asia   \n",
       "4     75936         1/13/2018 11:24  PENDING_PAYMENT  Pacific Asia   \n",
       "\n",
       "     Order Region Order Country      Order State  Order City  Customer Id  \n",
       "0  Southeast Asia     Indonesia  Java Occidental      Bekasi        20755  \n",
       "1      South Asia         India         Rajastán     Bikaner        19492  \n",
       "2      South Asia         India         Rajastán     Bikaner        19491  \n",
       "3         Oceania     Australia       Queensland  Townsville        19490  \n",
       "4         Oceania     Australia       Queensland  Townsville        19489  "
      ]
     },
     "execution_count": 29,
     "metadata": {},
     "output_type": "execute_result"
    }
   ],
   "source": [
    "tb_dim_order.head()"
   ]
  },
  {
   "cell_type": "markdown",
   "id": "75e03534",
   "metadata": {},
   "source": [
    "# Order Itemm"
   ]
  },
  {
   "cell_type": "code",
   "execution_count": 30,
   "id": "0bcfd8dc-1fde-48a0-8967-1aabe9365ce8",
   "metadata": {},
   "outputs": [],
   "source": [
    "tb_dim_order_item = df[['Order Item Id', 'Order Item Discount Rate', 'Order Item Profit Ratio', 'Product Card Id']]"
   ]
  },
  {
   "cell_type": "code",
   "execution_count": 31,
   "id": "ef69f0f1-d1c8-4e16-ae14-04a4bae3ae2f",
   "metadata": {},
   "outputs": [
    {
     "data": {
      "text/plain": [
       "(180519, 4)"
      ]
     },
     "execution_count": 31,
     "metadata": {},
     "output_type": "execute_result"
    }
   ],
   "source": [
    "tb_dim_order_item.shape"
   ]
  },
  {
   "cell_type": "code",
   "execution_count": 32,
   "id": "a7710910-a048-4d0d-b1cb-5333d1888f8c",
   "metadata": {},
   "outputs": [
    {
     "data": {
      "text/html": [
       "<div>\n",
       "<style scoped>\n",
       "    .dataframe tbody tr th:only-of-type {\n",
       "        vertical-align: middle;\n",
       "    }\n",
       "\n",
       "    .dataframe tbody tr th {\n",
       "        vertical-align: top;\n",
       "    }\n",
       "\n",
       "    .dataframe thead th {\n",
       "        text-align: right;\n",
       "    }\n",
       "</style>\n",
       "<table border=\"1\" class=\"dataframe\">\n",
       "  <thead>\n",
       "    <tr style=\"text-align: right;\">\n",
       "      <th></th>\n",
       "      <th>Order Item Id</th>\n",
       "      <th>Order Item Discount Rate</th>\n",
       "      <th>Order Item Profit Ratio</th>\n",
       "      <th>Product Card Id</th>\n",
       "    </tr>\n",
       "  </thead>\n",
       "  <tbody>\n",
       "    <tr>\n",
       "      <th>0</th>\n",
       "      <td>180517</td>\n",
       "      <td>0.04</td>\n",
       "      <td>0.29</td>\n",
       "      <td>1360</td>\n",
       "    </tr>\n",
       "    <tr>\n",
       "      <th>1</th>\n",
       "      <td>179254</td>\n",
       "      <td>0.05</td>\n",
       "      <td>-0.80</td>\n",
       "      <td>1360</td>\n",
       "    </tr>\n",
       "    <tr>\n",
       "      <th>2</th>\n",
       "      <td>179253</td>\n",
       "      <td>0.06</td>\n",
       "      <td>-0.80</td>\n",
       "      <td>1360</td>\n",
       "    </tr>\n",
       "    <tr>\n",
       "      <th>3</th>\n",
       "      <td>179252</td>\n",
       "      <td>0.07</td>\n",
       "      <td>0.08</td>\n",
       "      <td>1360</td>\n",
       "    </tr>\n",
       "    <tr>\n",
       "      <th>4</th>\n",
       "      <td>179251</td>\n",
       "      <td>0.09</td>\n",
       "      <td>0.45</td>\n",
       "      <td>1360</td>\n",
       "    </tr>\n",
       "  </tbody>\n",
       "</table>\n",
       "</div>"
      ],
      "text/plain": [
       "   Order Item Id  Order Item Discount Rate  Order Item Profit Ratio  \\\n",
       "0         180517                      0.04                     0.29   \n",
       "1         179254                      0.05                    -0.80   \n",
       "2         179253                      0.06                    -0.80   \n",
       "3         179252                      0.07                     0.08   \n",
       "4         179251                      0.09                     0.45   \n",
       "\n",
       "   Product Card Id  \n",
       "0             1360  \n",
       "1             1360  \n",
       "2             1360  \n",
       "3             1360  \n",
       "4             1360  "
      ]
     },
     "execution_count": 32,
     "metadata": {},
     "output_type": "execute_result"
    }
   ],
   "source": [
    "tb_dim_order_item.head()"
   ]
  },
  {
   "cell_type": "code",
   "execution_count": 33,
   "id": "6492bba5-9ec0-4892-a79b-7d8ac7447b60",
   "metadata": {},
   "outputs": [
    {
     "data": {
      "text/plain": [
       "Order Item Id\n",
       "180517    1\n",
       "42681     1\n",
       "28953     1\n",
       "39851     1\n",
       "173601    1\n",
       "         ..\n",
       "14991     1\n",
       "150102    1\n",
       "138584    1\n",
       "150270    1\n",
       "65113     1\n",
       "Name: count, Length: 180519, dtype: int64"
      ]
     },
     "execution_count": 33,
     "metadata": {},
     "output_type": "execute_result"
    }
   ],
   "source": [
    "tb_dim_order_item['Order Item Id'].value_counts(ascending=False)"
   ]
  },
  {
   "cell_type": "markdown",
   "id": "c4394cbc-1a79-4bb6-8167-76e63d6aa601",
   "metadata": {},
   "source": [
    "## Products"
   ]
  },
  {
   "cell_type": "code",
   "execution_count": 34,
   "id": "ac62e6ea-1dd5-4fa9-9cd2-13f8cff959f4",
   "metadata": {},
   "outputs": [],
   "source": [
    "tb_dim_product = df[['Product Card Id', 'Product Name', 'Product Price', 'Product Status', 'Product Image', 'Category Id']]"
   ]
  },
  {
   "cell_type": "code",
   "execution_count": 35,
   "id": "03106805-522c-4ff4-b2e8-f8e7732f0460",
   "metadata": {},
   "outputs": [
    {
     "data": {
      "text/plain": [
       "(180519, 6)"
      ]
     },
     "execution_count": 35,
     "metadata": {},
     "output_type": "execute_result"
    }
   ],
   "source": [
    "tb_dim_product.shape"
   ]
  },
  {
   "cell_type": "code",
   "execution_count": 36,
   "id": "7e00d7b3-1086-43f4-9412-7190d8d9912c",
   "metadata": {},
   "outputs": [
    {
     "data": {
      "text/plain": [
       "Product Card Id\n",
       "365     24515\n",
       "403     22246\n",
       "502     21035\n",
       "1014    19298\n",
       "1004    17325\n",
       "        ...  \n",
       "127        27\n",
       "208        15\n",
       "860        11\n",
       "226        10\n",
       "60         10\n",
       "Name: count, Length: 118, dtype: int64"
      ]
     },
     "execution_count": 36,
     "metadata": {},
     "output_type": "execute_result"
    }
   ],
   "source": [
    "tb_dim_product['Product Card Id'].value_counts(ascending=False)"
   ]
  },
  {
   "cell_type": "code",
   "execution_count": 37,
   "id": "288c723a-98ae-4b79-a51b-af56a0a8fb8b",
   "metadata": {},
   "outputs": [
    {
     "data": {
      "text/html": [
       "<div>\n",
       "<style scoped>\n",
       "    .dataframe tbody tr th:only-of-type {\n",
       "        vertical-align: middle;\n",
       "    }\n",
       "\n",
       "    .dataframe tbody tr th {\n",
       "        vertical-align: top;\n",
       "    }\n",
       "\n",
       "    .dataframe thead th {\n",
       "        text-align: right;\n",
       "    }\n",
       "</style>\n",
       "<table border=\"1\" class=\"dataframe\">\n",
       "  <thead>\n",
       "    <tr style=\"text-align: right;\">\n",
       "      <th></th>\n",
       "      <th>Product Card Id</th>\n",
       "      <th>Product Name</th>\n",
       "      <th>Product Price</th>\n",
       "      <th>Product Status</th>\n",
       "      <th>Product Image</th>\n",
       "      <th>Category Id</th>\n",
       "    </tr>\n",
       "  </thead>\n",
       "  <tbody>\n",
       "    <tr>\n",
       "      <th>48</th>\n",
       "      <td>365</td>\n",
       "      <td>Perfect Fitness Perfect Rip Deck</td>\n",
       "      <td>59.990002</td>\n",
       "      <td>0</td>\n",
       "      <td>http://images.acmesports.sports/Perfect+Fitnes...</td>\n",
       "      <td>17</td>\n",
       "    </tr>\n",
       "    <tr>\n",
       "      <th>57</th>\n",
       "      <td>365</td>\n",
       "      <td>Perfect Fitness Perfect Rip Deck</td>\n",
       "      <td>59.990002</td>\n",
       "      <td>0</td>\n",
       "      <td>http://images.acmesports.sports/Perfect+Fitnes...</td>\n",
       "      <td>17</td>\n",
       "    </tr>\n",
       "    <tr>\n",
       "      <th>58</th>\n",
       "      <td>365</td>\n",
       "      <td>Perfect Fitness Perfect Rip Deck</td>\n",
       "      <td>59.990002</td>\n",
       "      <td>0</td>\n",
       "      <td>http://images.acmesports.sports/Perfect+Fitnes...</td>\n",
       "      <td>17</td>\n",
       "    </tr>\n",
       "    <tr>\n",
       "      <th>66</th>\n",
       "      <td>365</td>\n",
       "      <td>Perfect Fitness Perfect Rip Deck</td>\n",
       "      <td>59.990002</td>\n",
       "      <td>0</td>\n",
       "      <td>http://images.acmesports.sports/Perfect+Fitnes...</td>\n",
       "      <td>17</td>\n",
       "    </tr>\n",
       "    <tr>\n",
       "      <th>67</th>\n",
       "      <td>365</td>\n",
       "      <td>Perfect Fitness Perfect Rip Deck</td>\n",
       "      <td>59.990002</td>\n",
       "      <td>0</td>\n",
       "      <td>http://images.acmesports.sports/Perfect+Fitnes...</td>\n",
       "      <td>17</td>\n",
       "    </tr>\n",
       "    <tr>\n",
       "      <th>...</th>\n",
       "      <td>...</td>\n",
       "      <td>...</td>\n",
       "      <td>...</td>\n",
       "      <td>...</td>\n",
       "      <td>...</td>\n",
       "      <td>...</td>\n",
       "    </tr>\n",
       "    <tr>\n",
       "      <th>179624</th>\n",
       "      <td>365</td>\n",
       "      <td>Perfect Fitness Perfect Rip Deck</td>\n",
       "      <td>59.990002</td>\n",
       "      <td>0</td>\n",
       "      <td>http://images.acmesports.sports/Perfect+Fitnes...</td>\n",
       "      <td>17</td>\n",
       "    </tr>\n",
       "    <tr>\n",
       "      <th>179625</th>\n",
       "      <td>365</td>\n",
       "      <td>Perfect Fitness Perfect Rip Deck</td>\n",
       "      <td>59.990002</td>\n",
       "      <td>0</td>\n",
       "      <td>http://images.acmesports.sports/Perfect+Fitnes...</td>\n",
       "      <td>17</td>\n",
       "    </tr>\n",
       "    <tr>\n",
       "      <th>179626</th>\n",
       "      <td>365</td>\n",
       "      <td>Perfect Fitness Perfect Rip Deck</td>\n",
       "      <td>59.990002</td>\n",
       "      <td>0</td>\n",
       "      <td>http://images.acmesports.sports/Perfect+Fitnes...</td>\n",
       "      <td>17</td>\n",
       "    </tr>\n",
       "    <tr>\n",
       "      <th>179627</th>\n",
       "      <td>365</td>\n",
       "      <td>Perfect Fitness Perfect Rip Deck</td>\n",
       "      <td>59.990002</td>\n",
       "      <td>0</td>\n",
       "      <td>http://images.acmesports.sports/Perfect+Fitnes...</td>\n",
       "      <td>17</td>\n",
       "    </tr>\n",
       "    <tr>\n",
       "      <th>179628</th>\n",
       "      <td>365</td>\n",
       "      <td>Perfect Fitness Perfect Rip Deck</td>\n",
       "      <td>59.990002</td>\n",
       "      <td>0</td>\n",
       "      <td>http://images.acmesports.sports/Perfect+Fitnes...</td>\n",
       "      <td>17</td>\n",
       "    </tr>\n",
       "  </tbody>\n",
       "</table>\n",
       "<p>24515 rows × 6 columns</p>\n",
       "</div>"
      ],
      "text/plain": [
       "        Product Card Id                      Product Name  Product Price  \\\n",
       "48                  365  Perfect Fitness Perfect Rip Deck      59.990002   \n",
       "57                  365  Perfect Fitness Perfect Rip Deck      59.990002   \n",
       "58                  365  Perfect Fitness Perfect Rip Deck      59.990002   \n",
       "66                  365  Perfect Fitness Perfect Rip Deck      59.990002   \n",
       "67                  365  Perfect Fitness Perfect Rip Deck      59.990002   \n",
       "...                 ...                               ...            ...   \n",
       "179624              365  Perfect Fitness Perfect Rip Deck      59.990002   \n",
       "179625              365  Perfect Fitness Perfect Rip Deck      59.990002   \n",
       "179626              365  Perfect Fitness Perfect Rip Deck      59.990002   \n",
       "179627              365  Perfect Fitness Perfect Rip Deck      59.990002   \n",
       "179628              365  Perfect Fitness Perfect Rip Deck      59.990002   \n",
       "\n",
       "        Product Status                                      Product Image  \\\n",
       "48                   0  http://images.acmesports.sports/Perfect+Fitnes...   \n",
       "57                   0  http://images.acmesports.sports/Perfect+Fitnes...   \n",
       "58                   0  http://images.acmesports.sports/Perfect+Fitnes...   \n",
       "66                   0  http://images.acmesports.sports/Perfect+Fitnes...   \n",
       "67                   0  http://images.acmesports.sports/Perfect+Fitnes...   \n",
       "...                ...                                                ...   \n",
       "179624               0  http://images.acmesports.sports/Perfect+Fitnes...   \n",
       "179625               0  http://images.acmesports.sports/Perfect+Fitnes...   \n",
       "179626               0  http://images.acmesports.sports/Perfect+Fitnes...   \n",
       "179627               0  http://images.acmesports.sports/Perfect+Fitnes...   \n",
       "179628               0  http://images.acmesports.sports/Perfect+Fitnes...   \n",
       "\n",
       "        Category Id  \n",
       "48               17  \n",
       "57               17  \n",
       "58               17  \n",
       "66               17  \n",
       "67               17  \n",
       "...             ...  \n",
       "179624           17  \n",
       "179625           17  \n",
       "179626           17  \n",
       "179627           17  \n",
       "179628           17  \n",
       "\n",
       "[24515 rows x 6 columns]"
      ]
     },
     "execution_count": 37,
     "metadata": {},
     "output_type": "execute_result"
    }
   ],
   "source": [
    "tb_dim_product[tb_dim_product['Product Card Id'] == 365]"
   ]
  },
  {
   "cell_type": "code",
   "execution_count": 38,
   "id": "8d0412b8-e01f-46d8-b219-76ac64a3b8d3",
   "metadata": {},
   "outputs": [],
   "source": [
    "tb_dim_product_grouped = tb_dim_product.groupby(by=['Product Card Id', 'Product Name', 'Product Price', 'Product Status', 'Product Image', 'Category Id']).agg('count').reset_index()"
   ]
  },
  {
   "cell_type": "code",
   "execution_count": 39,
   "id": "43348306-7c0f-4350-844e-b09e6f92db67",
   "metadata": {},
   "outputs": [
    {
     "data": {
      "text/plain": [
       "(118, 6)"
      ]
     },
     "execution_count": 39,
     "metadata": {},
     "output_type": "execute_result"
    }
   ],
   "source": [
    "tb_dim_product_grouped.shape"
   ]
  },
  {
   "cell_type": "code",
   "execution_count": 40,
   "id": "8d010150-4eea-472a-a548-3e5378462be5",
   "metadata": {},
   "outputs": [
    {
     "data": {
      "text/html": [
       "<div>\n",
       "<style scoped>\n",
       "    .dataframe tbody tr th:only-of-type {\n",
       "        vertical-align: middle;\n",
       "    }\n",
       "\n",
       "    .dataframe tbody tr th {\n",
       "        vertical-align: top;\n",
       "    }\n",
       "\n",
       "    .dataframe thead th {\n",
       "        text-align: right;\n",
       "    }\n",
       "</style>\n",
       "<table border=\"1\" class=\"dataframe\">\n",
       "  <thead>\n",
       "    <tr style=\"text-align: right;\">\n",
       "      <th></th>\n",
       "      <th>Product Card Id</th>\n",
       "      <th>Product Name</th>\n",
       "      <th>Product Price</th>\n",
       "      <th>Product Status</th>\n",
       "      <th>Product Image</th>\n",
       "      <th>Category Id</th>\n",
       "    </tr>\n",
       "  </thead>\n",
       "  <tbody>\n",
       "    <tr>\n",
       "      <th>0</th>\n",
       "      <td>19</td>\n",
       "      <td>Nike Men's Fingertrap Max Training Shoe</td>\n",
       "      <td>124.989998</td>\n",
       "      <td>0</td>\n",
       "      <td>http://images.acmesports.sports/Nike+Men%27s+F...</td>\n",
       "      <td>2</td>\n",
       "    </tr>\n",
       "    <tr>\n",
       "      <th>1</th>\n",
       "      <td>24</td>\n",
       "      <td>Elevation Training Mask 2.0</td>\n",
       "      <td>79.989998</td>\n",
       "      <td>0</td>\n",
       "      <td>http://images.acmesports.sports/Elevation+Trai...</td>\n",
       "      <td>2</td>\n",
       "    </tr>\n",
       "    <tr>\n",
       "      <th>2</th>\n",
       "      <td>35</td>\n",
       "      <td>adidas Brazuca 2014 Official Match Ball</td>\n",
       "      <td>159.990005</td>\n",
       "      <td>0</td>\n",
       "      <td>http://images.acmesports.sports/adidas+Brazuca...</td>\n",
       "      <td>3</td>\n",
       "    </tr>\n",
       "    <tr>\n",
       "      <th>3</th>\n",
       "      <td>37</td>\n",
       "      <td>adidas Kids' F5 Messi FG Soccer Cleat</td>\n",
       "      <td>34.990002</td>\n",
       "      <td>0</td>\n",
       "      <td>http://images.acmesports.sports/adidas+Kids%27...</td>\n",
       "      <td>3</td>\n",
       "    </tr>\n",
       "    <tr>\n",
       "      <th>4</th>\n",
       "      <td>44</td>\n",
       "      <td>adidas Men's F10 Messi TRX FG Soccer Cleat</td>\n",
       "      <td>59.990002</td>\n",
       "      <td>0</td>\n",
       "      <td>http://images.acmesports.sports/adidas+Men%27s...</td>\n",
       "      <td>3</td>\n",
       "    </tr>\n",
       "  </tbody>\n",
       "</table>\n",
       "</div>"
      ],
      "text/plain": [
       "   Product Card Id                                Product Name  Product Price  \\\n",
       "0               19     Nike Men's Fingertrap Max Training Shoe     124.989998   \n",
       "1               24                 Elevation Training Mask 2.0      79.989998   \n",
       "2               35     adidas Brazuca 2014 Official Match Ball     159.990005   \n",
       "3               37       adidas Kids' F5 Messi FG Soccer Cleat      34.990002   \n",
       "4               44  adidas Men's F10 Messi TRX FG Soccer Cleat      59.990002   \n",
       "\n",
       "   Product Status                                      Product Image  \\\n",
       "0               0  http://images.acmesports.sports/Nike+Men%27s+F...   \n",
       "1               0  http://images.acmesports.sports/Elevation+Trai...   \n",
       "2               0  http://images.acmesports.sports/adidas+Brazuca...   \n",
       "3               0  http://images.acmesports.sports/adidas+Kids%27...   \n",
       "4               0  http://images.acmesports.sports/adidas+Men%27s...   \n",
       "\n",
       "   Category Id  \n",
       "0            2  \n",
       "1            2  \n",
       "2            3  \n",
       "3            3  \n",
       "4            3  "
      ]
     },
     "execution_count": 40,
     "metadata": {},
     "output_type": "execute_result"
    }
   ],
   "source": [
    "tb_dim_product_grouped.head()"
   ]
  },
  {
   "cell_type": "code",
   "execution_count": 41,
   "id": "60ce5b43-e4ce-4393-b69f-d4783a3a5b5b",
   "metadata": {},
   "outputs": [
    {
     "data": {
      "text/plain": [
       "Index(['Product Card Id', 'Product Name', 'Product Price', 'Product Status',\n",
       "       'Product Image', 'Category Id'],\n",
       "      dtype='object')"
      ]
     },
     "execution_count": 41,
     "metadata": {},
     "output_type": "execute_result"
    }
   ],
   "source": [
    "tb_dim_product_grouped.columns"
   ]
  },
  {
   "cell_type": "code",
   "execution_count": 42,
   "id": "21886491-cc0e-490c-8a5c-bdbeaf3fcc92",
   "metadata": {},
   "outputs": [
    {
     "data": {
      "text/html": [
       "<div>\n",
       "<style scoped>\n",
       "    .dataframe tbody tr th:only-of-type {\n",
       "        vertical-align: middle;\n",
       "    }\n",
       "\n",
       "    .dataframe tbody tr th {\n",
       "        vertical-align: top;\n",
       "    }\n",
       "\n",
       "    .dataframe thead th {\n",
       "        text-align: right;\n",
       "    }\n",
       "</style>\n",
       "<table border=\"1\" class=\"dataframe\">\n",
       "  <thead>\n",
       "    <tr style=\"text-align: right;\">\n",
       "      <th></th>\n",
       "      <th>Product Card Id</th>\n",
       "      <th>Product Name</th>\n",
       "      <th>Product Price</th>\n",
       "      <th>Product Status</th>\n",
       "      <th>Product Image</th>\n",
       "      <th>Category Id</th>\n",
       "    </tr>\n",
       "  </thead>\n",
       "  <tbody>\n",
       "    <tr>\n",
       "      <th>35</th>\n",
       "      <td>365</td>\n",
       "      <td>Perfect Fitness Perfect Rip Deck</td>\n",
       "      <td>59.990002</td>\n",
       "      <td>0</td>\n",
       "      <td>http://images.acmesports.sports/Perfect+Fitnes...</td>\n",
       "      <td>17</td>\n",
       "    </tr>\n",
       "  </tbody>\n",
       "</table>\n",
       "</div>"
      ],
      "text/plain": [
       "    Product Card Id                      Product Name  Product Price  \\\n",
       "35              365  Perfect Fitness Perfect Rip Deck      59.990002   \n",
       "\n",
       "    Product Status                                      Product Image  \\\n",
       "35               0  http://images.acmesports.sports/Perfect+Fitnes...   \n",
       "\n",
       "    Category Id  \n",
       "35           17  "
      ]
     },
     "execution_count": 42,
     "metadata": {},
     "output_type": "execute_result"
    }
   ],
   "source": [
    "tb_dim_product_grouped[tb_dim_product_grouped['Product Card Id'] == 365]"
   ]
  },
  {
   "cell_type": "markdown",
   "id": "3970a607-0663-4d3a-8d22-7b3a34d6a47a",
   "metadata": {},
   "source": [
    "# Category"
   ]
  },
  {
   "cell_type": "code",
   "execution_count": 59,
   "id": "4296f167-4717-4511-853e-ab919c9c3ead",
   "metadata": {},
   "outputs": [],
   "source": [
    "tb_dim_category = df[['Category Id', 'Category Name', 'Department Id']]"
   ]
  },
  {
   "cell_type": "code",
   "execution_count": 60,
   "id": "b613557a-5179-4760-8dc3-5f109933c5b2",
   "metadata": {},
   "outputs": [
    {
     "data": {
      "text/plain": [
       "(180519, 3)"
      ]
     },
     "execution_count": 60,
     "metadata": {},
     "output_type": "execute_result"
    }
   ],
   "source": [
    "tb_dim_category.shape"
   ]
  },
  {
   "cell_type": "code",
   "execution_count": 61,
   "id": "95677a26-a96a-4fa4-88e2-8bbfa90e1fd0",
   "metadata": {},
   "outputs": [
    {
     "data": {
      "text/html": [
       "<div>\n",
       "<style scoped>\n",
       "    .dataframe tbody tr th:only-of-type {\n",
       "        vertical-align: middle;\n",
       "    }\n",
       "\n",
       "    .dataframe tbody tr th {\n",
       "        vertical-align: top;\n",
       "    }\n",
       "\n",
       "    .dataframe thead th {\n",
       "        text-align: right;\n",
       "    }\n",
       "</style>\n",
       "<table border=\"1\" class=\"dataframe\">\n",
       "  <thead>\n",
       "    <tr style=\"text-align: right;\">\n",
       "      <th></th>\n",
       "      <th>Category Id</th>\n",
       "      <th>Category Name</th>\n",
       "      <th>Department Id</th>\n",
       "    </tr>\n",
       "  </thead>\n",
       "  <tbody>\n",
       "    <tr>\n",
       "      <th>0</th>\n",
       "      <td>73</td>\n",
       "      <td>Sporting Goods</td>\n",
       "      <td>2</td>\n",
       "    </tr>\n",
       "    <tr>\n",
       "      <th>1</th>\n",
       "      <td>73</td>\n",
       "      <td>Sporting Goods</td>\n",
       "      <td>2</td>\n",
       "    </tr>\n",
       "    <tr>\n",
       "      <th>2</th>\n",
       "      <td>73</td>\n",
       "      <td>Sporting Goods</td>\n",
       "      <td>2</td>\n",
       "    </tr>\n",
       "    <tr>\n",
       "      <th>3</th>\n",
       "      <td>73</td>\n",
       "      <td>Sporting Goods</td>\n",
       "      <td>2</td>\n",
       "    </tr>\n",
       "    <tr>\n",
       "      <th>4</th>\n",
       "      <td>73</td>\n",
       "      <td>Sporting Goods</td>\n",
       "      <td>2</td>\n",
       "    </tr>\n",
       "  </tbody>\n",
       "</table>\n",
       "</div>"
      ],
      "text/plain": [
       "   Category Id   Category Name  Department Id\n",
       "0           73  Sporting Goods              2\n",
       "1           73  Sporting Goods              2\n",
       "2           73  Sporting Goods              2\n",
       "3           73  Sporting Goods              2\n",
       "4           73  Sporting Goods              2"
      ]
     },
     "execution_count": 61,
     "metadata": {},
     "output_type": "execute_result"
    }
   ],
   "source": [
    "tb_dim_category.head()"
   ]
  },
  {
   "cell_type": "code",
   "execution_count": 62,
   "id": "c1308bba-804a-4ef2-afb5-abc2a933f7ea",
   "metadata": {},
   "outputs": [
    {
     "data": {
      "text/plain": [
       "Category Id\n",
       "17    24551\n",
       "18    22246\n",
       "24    21035\n",
       "46    19298\n",
       "45    17325\n",
       "48    15540\n",
       "43    13729\n",
       "9     12487\n",
       "29    10984\n",
       "37     2029\n",
       "40     1780\n",
       "36     1475\n",
       "26     1201\n",
       "13     1127\n",
       "35     1070\n",
       "41      974\n",
       "75      838\n",
       "63      652\n",
       "76      650\n",
       "3       632\n",
       "7       614\n",
       "62      592\n",
       "74      529\n",
       "33      524\n",
       "72      492\n",
       "66      484\n",
       "68      484\n",
       "67      483\n",
       "64      442\n",
       "32      441\n",
       "44      440\n",
       "71      434\n",
       "65      431\n",
       "12      423\n",
       "59      405\n",
       "38      384\n",
       "69      362\n",
       "73      357\n",
       "5       343\n",
       "6       328\n",
       "11      309\n",
       "30      283\n",
       "61      271\n",
       "70      208\n",
       "60      207\n",
       "31      181\n",
       "2       138\n",
       "10      111\n",
       "16       68\n",
       "4        67\n",
       "34       61\n",
       "Name: count, dtype: int64"
      ]
     },
     "execution_count": 62,
     "metadata": {},
     "output_type": "execute_result"
    }
   ],
   "source": [
    "tb_dim_category['Category Id'].value_counts(ascending=False)"
   ]
  },
  {
   "cell_type": "code",
   "execution_count": 63,
   "id": "eafe6a7a-838c-4d5c-83ab-3938715cea50",
   "metadata": {},
   "outputs": [
    {
     "data": {
      "text/html": [
       "<div>\n",
       "<style scoped>\n",
       "    .dataframe tbody tr th:only-of-type {\n",
       "        vertical-align: middle;\n",
       "    }\n",
       "\n",
       "    .dataframe tbody tr th {\n",
       "        vertical-align: top;\n",
       "    }\n",
       "\n",
       "    .dataframe thead th {\n",
       "        text-align: right;\n",
       "    }\n",
       "</style>\n",
       "<table border=\"1\" class=\"dataframe\">\n",
       "  <thead>\n",
       "    <tr style=\"text-align: right;\">\n",
       "      <th></th>\n",
       "      <th>Category Id</th>\n",
       "      <th>Category Name</th>\n",
       "      <th>Department Id</th>\n",
       "    </tr>\n",
       "  </thead>\n",
       "  <tbody>\n",
       "    <tr>\n",
       "      <th>48</th>\n",
       "      <td>17</td>\n",
       "      <td>Cleats</td>\n",
       "      <td>4</td>\n",
       "    </tr>\n",
       "    <tr>\n",
       "      <th>57</th>\n",
       "      <td>17</td>\n",
       "      <td>Cleats</td>\n",
       "      <td>4</td>\n",
       "    </tr>\n",
       "    <tr>\n",
       "      <th>58</th>\n",
       "      <td>17</td>\n",
       "      <td>Cleats</td>\n",
       "      <td>4</td>\n",
       "    </tr>\n",
       "    <tr>\n",
       "      <th>66</th>\n",
       "      <td>17</td>\n",
       "      <td>Cleats</td>\n",
       "      <td>4</td>\n",
       "    </tr>\n",
       "    <tr>\n",
       "      <th>67</th>\n",
       "      <td>17</td>\n",
       "      <td>Cleats</td>\n",
       "      <td>4</td>\n",
       "    </tr>\n",
       "    <tr>\n",
       "      <th>...</th>\n",
       "      <td>...</td>\n",
       "      <td>...</td>\n",
       "      <td>...</td>\n",
       "    </tr>\n",
       "    <tr>\n",
       "      <th>179624</th>\n",
       "      <td>17</td>\n",
       "      <td>Cleats</td>\n",
       "      <td>4</td>\n",
       "    </tr>\n",
       "    <tr>\n",
       "      <th>179625</th>\n",
       "      <td>17</td>\n",
       "      <td>Cleats</td>\n",
       "      <td>4</td>\n",
       "    </tr>\n",
       "    <tr>\n",
       "      <th>179626</th>\n",
       "      <td>17</td>\n",
       "      <td>Cleats</td>\n",
       "      <td>4</td>\n",
       "    </tr>\n",
       "    <tr>\n",
       "      <th>179627</th>\n",
       "      <td>17</td>\n",
       "      <td>Cleats</td>\n",
       "      <td>4</td>\n",
       "    </tr>\n",
       "    <tr>\n",
       "      <th>179628</th>\n",
       "      <td>17</td>\n",
       "      <td>Cleats</td>\n",
       "      <td>4</td>\n",
       "    </tr>\n",
       "  </tbody>\n",
       "</table>\n",
       "<p>24551 rows × 3 columns</p>\n",
       "</div>"
      ],
      "text/plain": [
       "        Category Id Category Name  Department Id\n",
       "48               17        Cleats              4\n",
       "57               17        Cleats              4\n",
       "58               17        Cleats              4\n",
       "66               17        Cleats              4\n",
       "67               17        Cleats              4\n",
       "...             ...           ...            ...\n",
       "179624           17        Cleats              4\n",
       "179625           17        Cleats              4\n",
       "179626           17        Cleats              4\n",
       "179627           17        Cleats              4\n",
       "179628           17        Cleats              4\n",
       "\n",
       "[24551 rows x 3 columns]"
      ]
     },
     "execution_count": 63,
     "metadata": {},
     "output_type": "execute_result"
    }
   ],
   "source": [
    "tb_dim_category[tb_dim_category['Category Id'] == 17]"
   ]
  },
  {
   "cell_type": "code",
   "execution_count": 64,
   "id": "9c095956-9470-452a-a7dc-3b9959218316",
   "metadata": {},
   "outputs": [],
   "source": [
    "tb_dim_category_grouped = tb_dim_category.groupby(by=['Category Id', 'Category Name', 'Department Id']).agg('count').reset_index()"
   ]
  },
  {
   "cell_type": "code",
   "execution_count": 66,
   "id": "3cda42ff-b9ad-4d08-b8db-2c2962f98817",
   "metadata": {},
   "outputs": [
    {
     "data": {
      "text/plain": [
       "(51, 3)"
      ]
     },
     "execution_count": 66,
     "metadata": {},
     "output_type": "execute_result"
    }
   ],
   "source": [
    "tb_dim_category_grouped.shape"
   ]
  },
  {
   "cell_type": "code",
   "execution_count": null,
   "id": "0c3881a3-3ea3-439b-8974-06c7b226bf3d",
   "metadata": {},
   "outputs": [],
   "source": []
  },
  {
   "cell_type": "code",
   "execution_count": 46,
   "id": "d7653654-de8c-4102-94be-460d291c0bd5",
   "metadata": {},
   "outputs": [
    {
     "name": "stderr",
     "output_type": "stream",
     "text": [
      "/tmp/ipykernel_2589/972202479.py:1: SettingWithCopyWarning: \n",
      "A value is trying to be set on a copy of a slice from a DataFrame\n",
      "\n",
      "See the caveats in the documentation: https://pandas.pydata.org/pandas-docs/stable/user_guide/indexing.html#returning-a-view-versus-a-copy\n",
      "  tb_dim_category.drop_duplicates(subset=['Category Id'], inplace=True)\n"
     ]
    }
   ],
   "source": [
    "tb_dim_category.drop_duplicates(subset=['Category Id'], inplace=True)"
   ]
  },
  {
   "cell_type": "code",
   "execution_count": 47,
   "id": "3daea28b-9c0e-46c9-877f-16527e910437",
   "metadata": {},
   "outputs": [
    {
     "data": {
      "text/plain": [
       "(51, 2)"
      ]
     },
     "execution_count": 47,
     "metadata": {},
     "output_type": "execute_result"
    }
   ],
   "source": [
    "tb_dim_category.shape"
   ]
  },
  {
   "cell_type": "markdown",
   "id": "b88a4af0-9c81-45b0-a7d3-72d42d259755",
   "metadata": {},
   "source": [
    "# Customer"
   ]
  },
  {
   "cell_type": "code",
   "execution_count": 48,
   "id": "25492154-d293-4665-9169-1e4a95095466",
   "metadata": {},
   "outputs": [],
   "source": [
    "tb_dim_customer = df[['Customer Id', 'Customer Lname', 'Customer Fname', 'Customer Country', 'Customer State', 'Customer Zipcode', 'Customer City', 'Customer Street']]"
   ]
  },
  {
   "cell_type": "code",
   "execution_count": 49,
   "id": "026df4b9-cf1c-4601-bda6-f8e1ff229653",
   "metadata": {},
   "outputs": [
    {
     "data": {
      "text/html": [
       "<div>\n",
       "<style scoped>\n",
       "    .dataframe tbody tr th:only-of-type {\n",
       "        vertical-align: middle;\n",
       "    }\n",
       "\n",
       "    .dataframe tbody tr th {\n",
       "        vertical-align: top;\n",
       "    }\n",
       "\n",
       "    .dataframe thead th {\n",
       "        text-align: right;\n",
       "    }\n",
       "</style>\n",
       "<table border=\"1\" class=\"dataframe\">\n",
       "  <thead>\n",
       "    <tr style=\"text-align: right;\">\n",
       "      <th></th>\n",
       "      <th>Customer Id</th>\n",
       "      <th>Customer Lname</th>\n",
       "      <th>Customer Fname</th>\n",
       "      <th>Customer Country</th>\n",
       "      <th>Customer State</th>\n",
       "      <th>Customer Zipcode</th>\n",
       "      <th>Customer City</th>\n",
       "      <th>Customer Street</th>\n",
       "    </tr>\n",
       "  </thead>\n",
       "  <tbody>\n",
       "    <tr>\n",
       "      <th>0</th>\n",
       "      <td>20755</td>\n",
       "      <td>Holloway</td>\n",
       "      <td>Cally</td>\n",
       "      <td>Puerto Rico</td>\n",
       "      <td>PR</td>\n",
       "      <td>725.0</td>\n",
       "      <td>Caguas</td>\n",
       "      <td>5365 Noble Nectar Island</td>\n",
       "    </tr>\n",
       "    <tr>\n",
       "      <th>1</th>\n",
       "      <td>19492</td>\n",
       "      <td>Luna</td>\n",
       "      <td>Irene</td>\n",
       "      <td>Puerto Rico</td>\n",
       "      <td>PR</td>\n",
       "      <td>725.0</td>\n",
       "      <td>Caguas</td>\n",
       "      <td>2679 Rustic Loop</td>\n",
       "    </tr>\n",
       "    <tr>\n",
       "      <th>2</th>\n",
       "      <td>19491</td>\n",
       "      <td>Maldonado</td>\n",
       "      <td>Gillian</td>\n",
       "      <td>EE. UU.</td>\n",
       "      <td>CA</td>\n",
       "      <td>95125.0</td>\n",
       "      <td>San Jose</td>\n",
       "      <td>8510 Round Bear Gate</td>\n",
       "    </tr>\n",
       "    <tr>\n",
       "      <th>3</th>\n",
       "      <td>19490</td>\n",
       "      <td>Tate</td>\n",
       "      <td>Tana</td>\n",
       "      <td>EE. UU.</td>\n",
       "      <td>CA</td>\n",
       "      <td>90027.0</td>\n",
       "      <td>Los Angeles</td>\n",
       "      <td>3200 Amber Bend</td>\n",
       "    </tr>\n",
       "    <tr>\n",
       "      <th>4</th>\n",
       "      <td>19489</td>\n",
       "      <td>Hendricks</td>\n",
       "      <td>Orli</td>\n",
       "      <td>Puerto Rico</td>\n",
       "      <td>PR</td>\n",
       "      <td>725.0</td>\n",
       "      <td>Caguas</td>\n",
       "      <td>8671 Iron Anchor Corners</td>\n",
       "    </tr>\n",
       "  </tbody>\n",
       "</table>\n",
       "</div>"
      ],
      "text/plain": [
       "   Customer Id Customer Lname Customer Fname Customer Country Customer State  \\\n",
       "0        20755       Holloway          Cally      Puerto Rico             PR   \n",
       "1        19492           Luna          Irene      Puerto Rico             PR   \n",
       "2        19491      Maldonado        Gillian          EE. UU.             CA   \n",
       "3        19490           Tate           Tana          EE. UU.             CA   \n",
       "4        19489      Hendricks           Orli      Puerto Rico             PR   \n",
       "\n",
       "   Customer Zipcode Customer City           Customer Street  \n",
       "0             725.0        Caguas  5365 Noble Nectar Island  \n",
       "1             725.0        Caguas          2679 Rustic Loop  \n",
       "2           95125.0      San Jose      8510 Round Bear Gate  \n",
       "3           90027.0   Los Angeles           3200 Amber Bend  \n",
       "4             725.0        Caguas  8671 Iron Anchor Corners  "
      ]
     },
     "execution_count": 49,
     "metadata": {},
     "output_type": "execute_result"
    }
   ],
   "source": [
    "tb_dim_customer.head()"
   ]
  },
  {
   "cell_type": "code",
   "execution_count": 50,
   "id": "7bc7bc1f-429f-41d3-9620-b5c60c79b1c1",
   "metadata": {},
   "outputs": [
    {
     "data": {
      "text/plain": [
       "(180519, 8)"
      ]
     },
     "execution_count": 50,
     "metadata": {},
     "output_type": "execute_result"
    }
   ],
   "source": [
    "tb_dim_customer.shape"
   ]
  },
  {
   "cell_type": "code",
   "execution_count": 51,
   "id": "3ae5c4bd-f184-4dba-935b-9daaa682fba3",
   "metadata": {},
   "outputs": [
    {
     "data": {
      "text/plain": [
       "Customer Id\n",
       "5654     47\n",
       "10591    45\n",
       "5004     45\n",
       "5715     44\n",
       "3708     44\n",
       "         ..\n",
       "18698     1\n",
       "15537     1\n",
       "15484     1\n",
       "20681     1\n",
       "2677      1\n",
       "Name: count, Length: 20652, dtype: int64"
      ]
     },
     "execution_count": 51,
     "metadata": {},
     "output_type": "execute_result"
    }
   ],
   "source": [
    "tb_dim_customer['Customer Id'].value_counts(ascending=False)"
   ]
  },
  {
   "cell_type": "code",
   "execution_count": 52,
   "id": "8eb621c5-2e80-4468-9872-e6629625c992",
   "metadata": {},
   "outputs": [
    {
     "data": {
      "text/html": [
       "<div>\n",
       "<style scoped>\n",
       "    .dataframe tbody tr th:only-of-type {\n",
       "        vertical-align: middle;\n",
       "    }\n",
       "\n",
       "    .dataframe tbody tr th {\n",
       "        vertical-align: top;\n",
       "    }\n",
       "\n",
       "    .dataframe thead th {\n",
       "        text-align: right;\n",
       "    }\n",
       "</style>\n",
       "<table border=\"1\" class=\"dataframe\">\n",
       "  <thead>\n",
       "    <tr style=\"text-align: right;\">\n",
       "      <th></th>\n",
       "      <th>Customer Id</th>\n",
       "      <th>Customer Lname</th>\n",
       "      <th>Customer Fname</th>\n",
       "      <th>Customer Country</th>\n",
       "      <th>Customer State</th>\n",
       "      <th>Customer Zipcode</th>\n",
       "      <th>Customer City</th>\n",
       "      <th>Customer Street</th>\n",
       "    </tr>\n",
       "  </thead>\n",
       "  <tbody>\n",
       "    <tr>\n",
       "      <th>474</th>\n",
       "      <td>47</td>\n",
       "      <td>Fuller</td>\n",
       "      <td>Lori</td>\n",
       "      <td>Puerto Rico</td>\n",
       "      <td>PR</td>\n",
       "      <td>725.0</td>\n",
       "      <td>Caguas</td>\n",
       "      <td>357 Noble Lane</td>\n",
       "    </tr>\n",
       "    <tr>\n",
       "      <th>1318</th>\n",
       "      <td>47</td>\n",
       "      <td>Fuller</td>\n",
       "      <td>Lori</td>\n",
       "      <td>Puerto Rico</td>\n",
       "      <td>PR</td>\n",
       "      <td>725.0</td>\n",
       "      <td>Caguas</td>\n",
       "      <td>357 Noble Lane</td>\n",
       "    </tr>\n",
       "    <tr>\n",
       "      <th>179270</th>\n",
       "      <td>47</td>\n",
       "      <td>Fuller</td>\n",
       "      <td>Lori</td>\n",
       "      <td>Puerto Rico</td>\n",
       "      <td>PR</td>\n",
       "      <td>725.0</td>\n",
       "      <td>Caguas</td>\n",
       "      <td>357 Noble Lane</td>\n",
       "    </tr>\n",
       "  </tbody>\n",
       "</table>\n",
       "</div>"
      ],
      "text/plain": [
       "        Customer Id Customer Lname Customer Fname Customer Country  \\\n",
       "474              47         Fuller           Lori      Puerto Rico   \n",
       "1318             47         Fuller           Lori      Puerto Rico   \n",
       "179270           47         Fuller           Lori      Puerto Rico   \n",
       "\n",
       "       Customer State  Customer Zipcode Customer City Customer Street  \n",
       "474                PR             725.0        Caguas  357 Noble Lane  \n",
       "1318               PR             725.0        Caguas  357 Noble Lane  \n",
       "179270             PR             725.0        Caguas  357 Noble Lane  "
      ]
     },
     "execution_count": 52,
     "metadata": {},
     "output_type": "execute_result"
    }
   ],
   "source": [
    "tb_dim_customer[tb_dim_customer['Customer Id'] == 47]"
   ]
  },
  {
   "cell_type": "code",
   "execution_count": 53,
   "id": "28d7942a-1b78-40dd-9cc4-da553b39d45c",
   "metadata": {},
   "outputs": [
    {
     "data": {
      "text/plain": [
       "Index(['Customer Id', 'Customer Lname', 'Customer Fname', 'Customer Country',\n",
       "       'Customer State', 'Customer Zipcode', 'Customer City',\n",
       "       'Customer Street'],\n",
       "      dtype='object')"
      ]
     },
     "execution_count": 53,
     "metadata": {},
     "output_type": "execute_result"
    }
   ],
   "source": [
    "tb_dim_customer.columns"
   ]
  },
  {
   "cell_type": "code",
   "execution_count": 54,
   "id": "71e10a8d-6773-4fad-89eb-3662dbca578a",
   "metadata": {},
   "outputs": [],
   "source": [
    "tb_dim_customer_grouped = tb_dim_customer.groupby(by=['Customer Id', 'Customer Lname', 'Customer Fname', 'Customer Country',\n",
    "       'Customer State', 'Customer Zipcode', 'Customer City',\n",
    "       'Customer Street']).agg('count').reset_index()"
   ]
  },
  {
   "cell_type": "code",
   "execution_count": 55,
   "id": "a87f5f8a-d90f-4a44-862e-311b0e1ecfa3",
   "metadata": {},
   "outputs": [
    {
     "data": {
      "text/html": [
       "<div>\n",
       "<style scoped>\n",
       "    .dataframe tbody tr th:only-of-type {\n",
       "        vertical-align: middle;\n",
       "    }\n",
       "\n",
       "    .dataframe tbody tr th {\n",
       "        vertical-align: top;\n",
       "    }\n",
       "\n",
       "    .dataframe thead th {\n",
       "        text-align: right;\n",
       "    }\n",
       "</style>\n",
       "<table border=\"1\" class=\"dataframe\">\n",
       "  <thead>\n",
       "    <tr style=\"text-align: right;\">\n",
       "      <th></th>\n",
       "      <th>Customer Id</th>\n",
       "      <th>Customer Lname</th>\n",
       "      <th>Customer Fname</th>\n",
       "      <th>Customer Country</th>\n",
       "      <th>Customer State</th>\n",
       "      <th>Customer Zipcode</th>\n",
       "      <th>Customer City</th>\n",
       "      <th>Customer Street</th>\n",
       "    </tr>\n",
       "  </thead>\n",
       "  <tbody>\n",
       "    <tr>\n",
       "      <th>0</th>\n",
       "      <td>1</td>\n",
       "      <td>Hernandez</td>\n",
       "      <td>Richard</td>\n",
       "      <td>EE. UU.</td>\n",
       "      <td>TX</td>\n",
       "      <td>78521.0</td>\n",
       "      <td>Brownsville</td>\n",
       "      <td>6303 Heather Plaza</td>\n",
       "    </tr>\n",
       "    <tr>\n",
       "      <th>1</th>\n",
       "      <td>2</td>\n",
       "      <td>Barrett</td>\n",
       "      <td>Mary</td>\n",
       "      <td>EE. UU.</td>\n",
       "      <td>CO</td>\n",
       "      <td>80126.0</td>\n",
       "      <td>Littleton</td>\n",
       "      <td>9526 Noble Embers Ridge</td>\n",
       "    </tr>\n",
       "    <tr>\n",
       "      <th>2</th>\n",
       "      <td>3</td>\n",
       "      <td>Smith</td>\n",
       "      <td>Ann</td>\n",
       "      <td>Puerto Rico</td>\n",
       "      <td>PR</td>\n",
       "      <td>725.0</td>\n",
       "      <td>Caguas</td>\n",
       "      <td>3422 Blue Pioneer Bend</td>\n",
       "    </tr>\n",
       "    <tr>\n",
       "      <th>3</th>\n",
       "      <td>4</td>\n",
       "      <td>Jones</td>\n",
       "      <td>Mary</td>\n",
       "      <td>EE. UU.</td>\n",
       "      <td>CA</td>\n",
       "      <td>92069.0</td>\n",
       "      <td>San Marcos</td>\n",
       "      <td>8324 Little Common</td>\n",
       "    </tr>\n",
       "    <tr>\n",
       "      <th>4</th>\n",
       "      <td>5</td>\n",
       "      <td>Hudson</td>\n",
       "      <td>Robert</td>\n",
       "      <td>Puerto Rico</td>\n",
       "      <td>PR</td>\n",
       "      <td>725.0</td>\n",
       "      <td>Caguas</td>\n",
       "      <td>10 Crystal River Mall</td>\n",
       "    </tr>\n",
       "  </tbody>\n",
       "</table>\n",
       "</div>"
      ],
      "text/plain": [
       "   Customer Id Customer Lname Customer Fname Customer Country Customer State  \\\n",
       "0            1      Hernandez        Richard          EE. UU.             TX   \n",
       "1            2        Barrett           Mary          EE. UU.             CO   \n",
       "2            3          Smith            Ann      Puerto Rico             PR   \n",
       "3            4          Jones           Mary          EE. UU.             CA   \n",
       "4            5         Hudson         Robert      Puerto Rico             PR   \n",
       "\n",
       "   Customer Zipcode Customer City          Customer Street  \n",
       "0           78521.0   Brownsville       6303 Heather Plaza  \n",
       "1           80126.0     Littleton  9526 Noble Embers Ridge  \n",
       "2             725.0        Caguas   3422 Blue Pioneer Bend  \n",
       "3           92069.0    San Marcos       8324 Little Common  \n",
       "4             725.0        Caguas   10 Crystal River Mall   "
      ]
     },
     "execution_count": 55,
     "metadata": {},
     "output_type": "execute_result"
    }
   ],
   "source": [
    "tb_dim_customer_grouped.head()"
   ]
  },
  {
   "cell_type": "code",
   "execution_count": 56,
   "id": "edb5d72c-2298-48f3-adc5-7397b5d7e571",
   "metadata": {},
   "outputs": [
    {
     "data": {
      "text/plain": [
       "Customer Id\n",
       "1        1\n",
       "13893    1\n",
       "13871    1\n",
       "13870    1\n",
       "13869    1\n",
       "        ..\n",
       "6937     1\n",
       "6936     1\n",
       "6935     1\n",
       "6934     1\n",
       "20757    1\n",
       "Name: count, Length: 20641, dtype: int64"
      ]
     },
     "execution_count": 56,
     "metadata": {},
     "output_type": "execute_result"
    }
   ],
   "source": [
    "tb_dim_customer_grouped['Customer Id'].value_counts(ascending=False)"
   ]
  },
  {
   "cell_type": "code",
   "execution_count": 57,
   "id": "98a41c98-3c64-48bf-8e61-610dacb4c2d4",
   "metadata": {},
   "outputs": [
    {
     "data": {
      "text/html": [
       "<div>\n",
       "<style scoped>\n",
       "    .dataframe tbody tr th:only-of-type {\n",
       "        vertical-align: middle;\n",
       "    }\n",
       "\n",
       "    .dataframe tbody tr th {\n",
       "        vertical-align: top;\n",
       "    }\n",
       "\n",
       "    .dataframe thead th {\n",
       "        text-align: right;\n",
       "    }\n",
       "</style>\n",
       "<table border=\"1\" class=\"dataframe\">\n",
       "  <thead>\n",
       "    <tr style=\"text-align: right;\">\n",
       "      <th></th>\n",
       "      <th>Customer Id</th>\n",
       "      <th>Customer Lname</th>\n",
       "      <th>Customer Fname</th>\n",
       "      <th>Customer Country</th>\n",
       "      <th>Customer State</th>\n",
       "      <th>Customer Zipcode</th>\n",
       "      <th>Customer City</th>\n",
       "      <th>Customer Street</th>\n",
       "    </tr>\n",
       "  </thead>\n",
       "  <tbody>\n",
       "    <tr>\n",
       "      <th>1922</th>\n",
       "      <td>1946</td>\n",
       "      <td>Smith</td>\n",
       "      <td>Diane</td>\n",
       "      <td>Puerto Rico</td>\n",
       "      <td>PR</td>\n",
       "      <td>725.0</td>\n",
       "      <td>Caguas</td>\n",
       "      <td>3838 Sleepy Mountain Centre</td>\n",
       "    </tr>\n",
       "  </tbody>\n",
       "</table>\n",
       "</div>"
      ],
      "text/plain": [
       "      Customer Id Customer Lname Customer Fname Customer Country  \\\n",
       "1922         1946          Smith          Diane      Puerto Rico   \n",
       "\n",
       "     Customer State  Customer Zipcode Customer City  \\\n",
       "1922             PR             725.0        Caguas   \n",
       "\n",
       "                  Customer Street  \n",
       "1922  3838 Sleepy Mountain Centre  "
      ]
     },
     "execution_count": 57,
     "metadata": {},
     "output_type": "execute_result"
    }
   ],
   "source": [
    "tb_dim_customer_grouped[tb_dim_customer_grouped['Customer Id'] == 1946]"
   ]
  },
  {
   "cell_type": "code",
   "execution_count": 58,
   "id": "d2ec7af1-1b34-46d4-a0e6-0c0875a1facc",
   "metadata": {},
   "outputs": [
    {
     "data": {
      "text/plain": [
       "(20641, 8)"
      ]
     },
     "execution_count": 58,
     "metadata": {},
     "output_type": "execute_result"
    }
   ],
   "source": [
    "tb_dim_customer_grouped.shape"
   ]
  },
  {
   "cell_type": "markdown",
   "id": "7d37db97-b0d0-4334-9d8f-c777cc9f63d4",
   "metadata": {},
   "source": [
    "# Department"
   ]
  },
  {
   "cell_type": "code",
   "execution_count": 68,
   "id": "40709070-f87a-4779-b69e-52ec8328aa65",
   "metadata": {},
   "outputs": [],
   "source": [
    "tb_dim_department = df[['Department Id', 'Department Name']]"
   ]
  },
  {
   "cell_type": "code",
   "execution_count": 69,
   "id": "9bc9e6d0-d371-4293-843f-413a01d246a1",
   "metadata": {},
   "outputs": [
    {
     "data": {
      "text/plain": [
       "(180519, 2)"
      ]
     },
     "execution_count": 69,
     "metadata": {},
     "output_type": "execute_result"
    }
   ],
   "source": [
    "tb_dim_department.shape"
   ]
  },
  {
   "cell_type": "code",
   "execution_count": 70,
   "id": "85ff1154-75a0-4347-a18b-f22aca2c99e8",
   "metadata": {},
   "outputs": [
    {
     "data": {
      "text/plain": [
       "Department Id\n",
       "7     66861\n",
       "4     48998\n",
       "5     33220\n",
       "3     14525\n",
       "6      9686\n",
       "2      2479\n",
       "9      2026\n",
       "10     1465\n",
       "11      492\n",
       "8       405\n",
       "12      362\n",
       "Name: count, dtype: int64"
      ]
     },
     "execution_count": 70,
     "metadata": {},
     "output_type": "execute_result"
    }
   ],
   "source": [
    "tb_dim_department['Department Id'].value_counts(ascending=False)"
   ]
  },
  {
   "cell_type": "code",
   "execution_count": 71,
   "id": "dc51ec9e-d285-46ac-a3de-d1d5f07c7eef",
   "metadata": {},
   "outputs": [
    {
     "data": {
      "text/html": [
       "<div>\n",
       "<style scoped>\n",
       "    .dataframe tbody tr th:only-of-type {\n",
       "        vertical-align: middle;\n",
       "    }\n",
       "\n",
       "    .dataframe tbody tr th {\n",
       "        vertical-align: top;\n",
       "    }\n",
       "\n",
       "    .dataframe thead th {\n",
       "        text-align: right;\n",
       "    }\n",
       "</style>\n",
       "<table border=\"1\" class=\"dataframe\">\n",
       "  <thead>\n",
       "    <tr style=\"text-align: right;\">\n",
       "      <th></th>\n",
       "      <th>Department Id</th>\n",
       "      <th>Department Name</th>\n",
       "    </tr>\n",
       "  </thead>\n",
       "  <tbody>\n",
       "    <tr>\n",
       "      <th>118</th>\n",
       "      <td>7</td>\n",
       "      <td>Fan Shop</td>\n",
       "    </tr>\n",
       "    <tr>\n",
       "      <th>143</th>\n",
       "      <td>7</td>\n",
       "      <td>Fan Shop</td>\n",
       "    </tr>\n",
       "    <tr>\n",
       "      <th>144</th>\n",
       "      <td>7</td>\n",
       "      <td>Fan Shop</td>\n",
       "    </tr>\n",
       "    <tr>\n",
       "      <th>293</th>\n",
       "      <td>7</td>\n",
       "      <td>Fan Shop</td>\n",
       "    </tr>\n",
       "    <tr>\n",
       "      <th>1343</th>\n",
       "      <td>7</td>\n",
       "      <td>Fan Shop</td>\n",
       "    </tr>\n",
       "    <tr>\n",
       "      <th>...</th>\n",
       "      <td>...</td>\n",
       "      <td>...</td>\n",
       "    </tr>\n",
       "    <tr>\n",
       "      <th>180514</th>\n",
       "      <td>7</td>\n",
       "      <td>Fan Shop</td>\n",
       "    </tr>\n",
       "    <tr>\n",
       "      <th>180515</th>\n",
       "      <td>7</td>\n",
       "      <td>Fan Shop</td>\n",
       "    </tr>\n",
       "    <tr>\n",
       "      <th>180516</th>\n",
       "      <td>7</td>\n",
       "      <td>Fan Shop</td>\n",
       "    </tr>\n",
       "    <tr>\n",
       "      <th>180517</th>\n",
       "      <td>7</td>\n",
       "      <td>Fan Shop</td>\n",
       "    </tr>\n",
       "    <tr>\n",
       "      <th>180518</th>\n",
       "      <td>7</td>\n",
       "      <td>Fan Shop</td>\n",
       "    </tr>\n",
       "  </tbody>\n",
       "</table>\n",
       "<p>66861 rows × 2 columns</p>\n",
       "</div>"
      ],
      "text/plain": [
       "        Department Id Department Name\n",
       "118                 7        Fan Shop\n",
       "143                 7        Fan Shop\n",
       "144                 7        Fan Shop\n",
       "293                 7        Fan Shop\n",
       "1343                7        Fan Shop\n",
       "...               ...             ...\n",
       "180514              7        Fan Shop\n",
       "180515              7        Fan Shop\n",
       "180516              7        Fan Shop\n",
       "180517              7        Fan Shop\n",
       "180518              7        Fan Shop\n",
       "\n",
       "[66861 rows x 2 columns]"
      ]
     },
     "execution_count": 71,
     "metadata": {},
     "output_type": "execute_result"
    }
   ],
   "source": [
    "tb_dim_department[tb_dim_department['Department Id'] == 7]"
   ]
  },
  {
   "cell_type": "markdown",
   "id": "90131475-1d37-4bef-b9af-9fe1183954a3",
   "metadata": {},
   "source": [
    "# Shipment"
   ]
  },
  {
   "cell_type": "code",
   "execution_count": 72,
   "id": "571ff296-851d-4492-a554-8cd9473e44d6",
   "metadata": {},
   "outputs": [
    {
     "data": {
      "text/plain": [
       "Index(['Type', 'Days for shipping (real)', 'Days for shipment (scheduled)',\n",
       "       'Benefit per order', 'Sales per customer', 'Delivery Status',\n",
       "       'Late_delivery_risk', 'Category Id', 'Category Name', 'Customer City',\n",
       "       'Customer Country', 'Customer Email', 'Customer Fname', 'Customer Id',\n",
       "       'Customer Lname', 'Customer Password', 'Customer Segment',\n",
       "       'Customer State', 'Customer Street', 'Customer Zipcode',\n",
       "       'Department Id', 'Department Name', 'Latitude', 'Longitude', 'Market',\n",
       "       'Order City', 'Order Country', 'Order Customer Id',\n",
       "       'order date (DateOrders)', 'Order Id', 'Order Item Cardprod Id',\n",
       "       'Order Item Discount', 'Order Item Discount Rate', 'Order Item Id',\n",
       "       'Order Item Product Price', 'Order Item Profit Ratio',\n",
       "       'Order Item Quantity', 'Sales', 'Order Item Total',\n",
       "       'Order Profit Per Order', 'Order Region', 'Order State', 'Order Status',\n",
       "       'Order Zipcode', 'Product Card Id', 'Product Category Id',\n",
       "       'Product Description', 'Product Image', 'Product Name', 'Product Price',\n",
       "       'Product Status', 'shipping date (DateOrders)', 'Shipping Mode'],\n",
       "      dtype='object')"
      ]
     },
     "execution_count": 72,
     "metadata": {},
     "output_type": "execute_result"
    }
   ],
   "source": [
    "df.columns"
   ]
  },
  {
   "cell_type": "code",
   "execution_count": 86,
   "id": "fdd51387-a587-45b5-ae4a-9c16d27c9750",
   "metadata": {},
   "outputs": [],
   "source": [
    "tb_dim_shipment = df[['Order Id', 'Days for shipping (real)', 'Days for shipment (scheduled)','Delivery Status',\\\n",
    "                      'Late_delivery_risk', 'shipping date (DateOrders)', 'Shipping Mode']]"
   ]
  },
  {
   "cell_type": "code",
   "execution_count": 78,
   "id": "6a110b7a-ff88-4f10-8003-7de2452197d2",
   "metadata": {},
   "outputs": [
    {
     "data": {
      "text/html": [
       "<div>\n",
       "<style scoped>\n",
       "    .dataframe tbody tr th:only-of-type {\n",
       "        vertical-align: middle;\n",
       "    }\n",
       "\n",
       "    .dataframe tbody tr th {\n",
       "        vertical-align: top;\n",
       "    }\n",
       "\n",
       "    .dataframe thead th {\n",
       "        text-align: right;\n",
       "    }\n",
       "</style>\n",
       "<table border=\"1\" class=\"dataframe\">\n",
       "  <thead>\n",
       "    <tr style=\"text-align: right;\">\n",
       "      <th></th>\n",
       "      <th>Order Id</th>\n",
       "      <th>Days for shipping (real)</th>\n",
       "      <th>Days for shipping (real)</th>\n",
       "      <th>Days for shipment (scheduled)</th>\n",
       "      <th>Delivery Status</th>\n",
       "      <th>Late_delivery_risk</th>\n",
       "      <th>shipping date (DateOrders)</th>\n",
       "      <th>Shipping Mode</th>\n",
       "    </tr>\n",
       "  </thead>\n",
       "  <tbody>\n",
       "    <tr>\n",
       "      <th>0</th>\n",
       "      <td>77202</td>\n",
       "      <td>3</td>\n",
       "      <td>3</td>\n",
       "      <td>4</td>\n",
       "      <td>Advance shipping</td>\n",
       "      <td>0</td>\n",
       "      <td>2/3/2018 22:56</td>\n",
       "      <td>Standard Class</td>\n",
       "    </tr>\n",
       "    <tr>\n",
       "      <th>1</th>\n",
       "      <td>75939</td>\n",
       "      <td>5</td>\n",
       "      <td>5</td>\n",
       "      <td>4</td>\n",
       "      <td>Late delivery</td>\n",
       "      <td>1</td>\n",
       "      <td>1/18/2018 12:27</td>\n",
       "      <td>Standard Class</td>\n",
       "    </tr>\n",
       "    <tr>\n",
       "      <th>2</th>\n",
       "      <td>75938</td>\n",
       "      <td>4</td>\n",
       "      <td>4</td>\n",
       "      <td>4</td>\n",
       "      <td>Shipping on time</td>\n",
       "      <td>0</td>\n",
       "      <td>1/17/2018 12:06</td>\n",
       "      <td>Standard Class</td>\n",
       "    </tr>\n",
       "    <tr>\n",
       "      <th>3</th>\n",
       "      <td>75937</td>\n",
       "      <td>3</td>\n",
       "      <td>3</td>\n",
       "      <td>4</td>\n",
       "      <td>Advance shipping</td>\n",
       "      <td>0</td>\n",
       "      <td>1/16/2018 11:45</td>\n",
       "      <td>Standard Class</td>\n",
       "    </tr>\n",
       "    <tr>\n",
       "      <th>4</th>\n",
       "      <td>75936</td>\n",
       "      <td>2</td>\n",
       "      <td>2</td>\n",
       "      <td>4</td>\n",
       "      <td>Advance shipping</td>\n",
       "      <td>0</td>\n",
       "      <td>1/15/2018 11:24</td>\n",
       "      <td>Standard Class</td>\n",
       "    </tr>\n",
       "  </tbody>\n",
       "</table>\n",
       "</div>"
      ],
      "text/plain": [
       "   Order Id  Days for shipping (real)  Days for shipping (real)  \\\n",
       "0     77202                         3                         3   \n",
       "1     75939                         5                         5   \n",
       "2     75938                         4                         4   \n",
       "3     75937                         3                         3   \n",
       "4     75936                         2                         2   \n",
       "\n",
       "   Days for shipment (scheduled)   Delivery Status  Late_delivery_risk  \\\n",
       "0                              4  Advance shipping                   0   \n",
       "1                              4     Late delivery                   1   \n",
       "2                              4  Shipping on time                   0   \n",
       "3                              4  Advance shipping                   0   \n",
       "4                              4  Advance shipping                   0   \n",
       "\n",
       "  shipping date (DateOrders)   Shipping Mode  \n",
       "0             2/3/2018 22:56  Standard Class  \n",
       "1            1/18/2018 12:27  Standard Class  \n",
       "2            1/17/2018 12:06  Standard Class  \n",
       "3            1/16/2018 11:45  Standard Class  \n",
       "4            1/15/2018 11:24  Standard Class  "
      ]
     },
     "execution_count": 78,
     "metadata": {},
     "output_type": "execute_result"
    }
   ],
   "source": [
    "tb_dim_shipment.head()"
   ]
  },
  {
   "cell_type": "code",
   "execution_count": 87,
   "id": "b3e44ad5-6641-4c09-87de-6a71e0d7d14e",
   "metadata": {},
   "outputs": [
    {
     "data": {
      "text/plain": [
       "Order Id\n",
       "48880    5\n",
       "3605     5\n",
       "28265    5\n",
       "50037    5\n",
       "27861    5\n",
       "        ..\n",
       "42011    1\n",
       "42068    1\n",
       "42072    1\n",
       "42118    1\n",
       "26118    1\n",
       "Name: count, Length: 65752, dtype: int64"
      ]
     },
     "execution_count": 87,
     "metadata": {},
     "output_type": "execute_result"
    }
   ],
   "source": [
    "tb_dim_shipment['Order Id'].value_counts(ascending=False)"
   ]
  },
  {
   "cell_type": "code",
   "execution_count": 88,
   "id": "39b2df73-1c29-45a5-9e79-96ce7f3e974c",
   "metadata": {},
   "outputs": [
    {
     "data": {
      "text/html": [
       "<div>\n",
       "<style scoped>\n",
       "    .dataframe tbody tr th:only-of-type {\n",
       "        vertical-align: middle;\n",
       "    }\n",
       "\n",
       "    .dataframe tbody tr th {\n",
       "        vertical-align: top;\n",
       "    }\n",
       "\n",
       "    .dataframe thead th {\n",
       "        text-align: right;\n",
       "    }\n",
       "</style>\n",
       "<table border=\"1\" class=\"dataframe\">\n",
       "  <thead>\n",
       "    <tr style=\"text-align: right;\">\n",
       "      <th></th>\n",
       "      <th>Order Id</th>\n",
       "      <th>Days for shipping (real)</th>\n",
       "      <th>Days for shipment (scheduled)</th>\n",
       "      <th>Delivery Status</th>\n",
       "      <th>Late_delivery_risk</th>\n",
       "      <th>shipping date (DateOrders)</th>\n",
       "      <th>Shipping Mode</th>\n",
       "    </tr>\n",
       "  </thead>\n",
       "  <tbody>\n",
       "    <tr>\n",
       "      <th>118698</th>\n",
       "      <td>48880</td>\n",
       "      <td>6</td>\n",
       "      <td>2</td>\n",
       "      <td>Late delivery</td>\n",
       "      <td>1</td>\n",
       "      <td>12/20/2016 12:29</td>\n",
       "      <td>Second Class</td>\n",
       "    </tr>\n",
       "    <tr>\n",
       "      <th>119105</th>\n",
       "      <td>48880</td>\n",
       "      <td>6</td>\n",
       "      <td>2</td>\n",
       "      <td>Late delivery</td>\n",
       "      <td>1</td>\n",
       "      <td>12/20/2016 12:29</td>\n",
       "      <td>Second Class</td>\n",
       "    </tr>\n",
       "    <tr>\n",
       "      <th>119676</th>\n",
       "      <td>48880</td>\n",
       "      <td>6</td>\n",
       "      <td>2</td>\n",
       "      <td>Late delivery</td>\n",
       "      <td>1</td>\n",
       "      <td>12/20/2016 12:29</td>\n",
       "      <td>Second Class</td>\n",
       "    </tr>\n",
       "    <tr>\n",
       "      <th>119677</th>\n",
       "      <td>48880</td>\n",
       "      <td>6</td>\n",
       "      <td>2</td>\n",
       "      <td>Late delivery</td>\n",
       "      <td>1</td>\n",
       "      <td>12/20/2016 12:29</td>\n",
       "      <td>Second Class</td>\n",
       "    </tr>\n",
       "    <tr>\n",
       "      <th>119995</th>\n",
       "      <td>48880</td>\n",
       "      <td>6</td>\n",
       "      <td>2</td>\n",
       "      <td>Late delivery</td>\n",
       "      <td>1</td>\n",
       "      <td>12/20/2016 12:29</td>\n",
       "      <td>Second Class</td>\n",
       "    </tr>\n",
       "  </tbody>\n",
       "</table>\n",
       "</div>"
      ],
      "text/plain": [
       "        Order Id  Days for shipping (real)  Days for shipment (scheduled)  \\\n",
       "118698     48880                         6                              2   \n",
       "119105     48880                         6                              2   \n",
       "119676     48880                         6                              2   \n",
       "119677     48880                         6                              2   \n",
       "119995     48880                         6                              2   \n",
       "\n",
       "       Delivery Status  Late_delivery_risk shipping date (DateOrders)  \\\n",
       "118698   Late delivery                   1           12/20/2016 12:29   \n",
       "119105   Late delivery                   1           12/20/2016 12:29   \n",
       "119676   Late delivery                   1           12/20/2016 12:29   \n",
       "119677   Late delivery                   1           12/20/2016 12:29   \n",
       "119995   Late delivery                   1           12/20/2016 12:29   \n",
       "\n",
       "       Shipping Mode  \n",
       "118698  Second Class  \n",
       "119105  Second Class  \n",
       "119676  Second Class  \n",
       "119677  Second Class  \n",
       "119995  Second Class  "
      ]
     },
     "execution_count": 88,
     "metadata": {},
     "output_type": "execute_result"
    }
   ],
   "source": [
    "tb_dim_shipment[tb_dim_shipment['Order Id'] == 48880]"
   ]
  },
  {
   "cell_type": "code",
   "execution_count": 90,
   "id": "df4256c7-0595-48c2-8ada-c372bbbb5c75",
   "metadata": {},
   "outputs": [],
   "source": [
    "tb_dim_shipment_grouped = tb_dim_shipment.groupby(\n",
    "    by=['Order Id', 'Days for shipping (real)', 'Days for shipment (scheduled)','Delivery Status','Late_delivery_risk', 'shipping date (DateOrders)', 'Shipping Mode']\n",
    ").agg('count').reset_index()"
   ]
  },
  {
   "cell_type": "code",
   "execution_count": 91,
   "id": "c5f8097f-f462-4ae9-bdb9-9debe5358491",
   "metadata": {},
   "outputs": [
    {
     "data": {
      "text/plain": [
       "(65752, 7)"
      ]
     },
     "execution_count": 91,
     "metadata": {},
     "output_type": "execute_result"
    }
   ],
   "source": [
    "tb_dim_shipment_grouped.shape"
   ]
  },
  {
   "cell_type": "code",
   "execution_count": 93,
   "id": "67bab881-b6fb-4513-97d4-30639c329f6f",
   "metadata": {},
   "outputs": [
    {
     "data": {
      "text/plain": [
       "Order Id\n",
       "1        1\n",
       "52691    1\n",
       "52578    1\n",
       "52579    1\n",
       "52580    1\n",
       "        ..\n",
       "26243    1\n",
       "26244    1\n",
       "26245    1\n",
       "26246    1\n",
       "77204    1\n",
       "Name: count, Length: 65752, dtype: int64"
      ]
     },
     "execution_count": 93,
     "metadata": {},
     "output_type": "execute_result"
    }
   ],
   "source": [
    "tb_dim_shipment_grouped['Order Id'].value_counts(ascending=False)"
   ]
  },
  {
   "cell_type": "code",
   "execution_count": 92,
   "id": "dc6e5ad0-17a3-4925-acf5-406428f04f6d",
   "metadata": {},
   "outputs": [
    {
     "data": {
      "text/html": [
       "<div>\n",
       "<style scoped>\n",
       "    .dataframe tbody tr th:only-of-type {\n",
       "        vertical-align: middle;\n",
       "    }\n",
       "\n",
       "    .dataframe tbody tr th {\n",
       "        vertical-align: top;\n",
       "    }\n",
       "\n",
       "    .dataframe thead th {\n",
       "        text-align: right;\n",
       "    }\n",
       "</style>\n",
       "<table border=\"1\" class=\"dataframe\">\n",
       "  <thead>\n",
       "    <tr style=\"text-align: right;\">\n",
       "      <th></th>\n",
       "      <th>Order Id</th>\n",
       "      <th>Days for shipping (real)</th>\n",
       "      <th>Days for shipment (scheduled)</th>\n",
       "      <th>Delivery Status</th>\n",
       "      <th>Late_delivery_risk</th>\n",
       "      <th>shipping date (DateOrders)</th>\n",
       "      <th>Shipping Mode</th>\n",
       "    </tr>\n",
       "  </thead>\n",
       "  <tbody>\n",
       "    <tr>\n",
       "      <th>40766</th>\n",
       "      <td>48880</td>\n",
       "      <td>6</td>\n",
       "      <td>2</td>\n",
       "      <td>Late delivery</td>\n",
       "      <td>1</td>\n",
       "      <td>12/20/2016 12:29</td>\n",
       "      <td>Second Class</td>\n",
       "    </tr>\n",
       "  </tbody>\n",
       "</table>\n",
       "</div>"
      ],
      "text/plain": [
       "       Order Id  Days for shipping (real)  Days for shipment (scheduled)  \\\n",
       "40766     48880                         6                              2   \n",
       "\n",
       "      Delivery Status  Late_delivery_risk shipping date (DateOrders)  \\\n",
       "40766   Late delivery                   1           12/20/2016 12:29   \n",
       "\n",
       "      Shipping Mode  \n",
       "40766  Second Class  "
      ]
     },
     "execution_count": 92,
     "metadata": {},
     "output_type": "execute_result"
    }
   ],
   "source": [
    "tb_dim_shipment_grouped[tb_dim_shipment_grouped['Order Id'] == 48880]"
   ]
  }
 ],
 "metadata": {
  "kernelspec": {
   "display_name": "Python 3 (ipykernel)",
   "language": "python",
   "name": "python3"
  },
  "language_info": {
   "codemirror_mode": {
    "name": "ipython",
    "version": 3
   },
   "file_extension": ".py",
   "mimetype": "text/x-python",
   "name": "python",
   "nbconvert_exporter": "python",
   "pygments_lexer": "ipython3",
   "version": "3.8.10"
  }
 },
 "nbformat": 4,
 "nbformat_minor": 5
}
